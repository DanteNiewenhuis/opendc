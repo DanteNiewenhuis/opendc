{
 "cells": [
  {
   "cell_type": "markdown",
   "id": "da3a34e0",
   "metadata": {},
   "source": [
    "# Experiment 4: Impact of Datacenter Scheduler\n",
    "\n",
    "> What happens when the scheduling policy changes?\n",
    "Single topology, single workload, multiple scheduling policies\n",
    "Will a change to my datacenter increase risk? Is it worth the risk?"
   ]
  },
  {
   "cell_type": "code",
   "execution_count": null,
   "id": "f17d955e-ee62-401e-bbca-57769cee53f7",
   "metadata": {},
   "outputs": [],
   "source": [
    "import os\n",
    "import pandas as pd\n",
    "import matplotlib.pyplot as plt\n",
    "import matplotlib.ticker as mtick\n",
    "import seaborn as sns\n",
    "import radice\n",
    "\n",
    "FIGURE_PATH = 'figures/04-scheduler'\n",
    "\n",
    "os.makedirs(FIGURE_PATH, exist_ok=True)\n",
    "radice.set()"
   ]
  },
  {
   "cell_type": "markdown",
   "id": "6cf8dad0",
   "metadata": {},
   "source": [
    "## Traditional Allocation Policies\n",
    "\n",
    "The experimental results are obtained by running the following command\n",
    "```bash\n",
    "bin/radice run -r 4096 -p 80 portfolios/scheduler.yml -P portfolio=scheduler\n",
    "```"
   ]
  },
  {
   "cell_type": "code",
   "execution_count": null,
   "id": "5f41c205-2a3a-4b31-bf5b-22273655098f",
   "metadata": {},
   "outputs": [],
   "source": [
    "risk = pd.read_parquet('data/risk/portfolio=scheduler',  columns=['scheduler', 'seed', 'timestamp', 'id', 'cost'], read_dictionary=['id'], buffer_size=4096)\n",
    "risk"
   ]
  },
  {
   "cell_type": "code",
   "execution_count": null,
   "id": "1bd85528-0547-429b-a301-546a8a22584f",
   "metadata": {},
   "outputs": [],
   "source": [
    "risk_pm = radice.compute_monthly_risk(risk, keys=['scheduler'])\n",
    "risk_pm"
   ]
  },
  {
   "cell_type": "code",
   "execution_count": null,
   "id": "0ead512c-5c58-4e45-bf10-789162df2c92",
   "metadata": {},
   "outputs": [],
   "source": [
    "fig, ax = plt.subplots(figsize=radice.figsize(2.9))\n",
    "\n",
    "order = [\n",
    "    'default',\n",
    "    'mem',\n",
    "    'core-mem',\n",
    "    'provisioned-cores',\n",
    "    'active-servers',\n",
    "    'mem-inv',\n",
    "    'core-mem-inv',\n",
    "    'provisioned-cores-inv',\n",
    "    'active-servers-inv',\n",
    "    'combo',\n",
    "    'random',\n",
    "]\n",
    "ylabels = [\n",
    "    \"Baseline\",\n",
    "    \"Free Memory (Max)\",\n",
    "    \"Free Memory per pCPU (Max)\",\n",
    "    \"Free vCPUs (Max)\",\n",
    "    \"VM Count (Min)\",\n",
    "    \"Free Memory (Min)\",\n",
    "    \"Free Memory per CPU (Min)\",\n",
    "    \"Free vCPUs (Min)\",\n",
    "    \"VM Count (Max)\",\n",
    "    \"Combo\",\n",
    "    \"Random\",\n",
    "]\n",
    "\n",
    "#hue_order = [\"customer\", \"company\", \"society\"]\n",
    "\n",
    "ax = sns.boxplot(data=risk_pm, x=\"cost\", y=\"scheduler\", ax=ax, order=order, showfliers=False, showmeans=True, palette=['C0', 'C1'])\n",
    "\n",
    "ax.set_ylabel(\"Scheduler\")\n",
    "ax.set_xlabel(\"Risk per Month (€)\")\n",
    "ax.set_yticklabels(ylabels, ha='left')\n",
    "ax.get_yaxis().set_tick_params(pad=120)\n",
    "ax.set_xlim(left=0, right=12800)\n",
    "ax.xaxis.set_major_formatter(mtick.StrMethodFormatter('{x:,.0f}'))\n",
    "\n",
    "fig.savefig(os.path.join(FIGURE_PATH, 'scheduler-influence.pdf'))"
   ]
  },
  {
   "cell_type": "code",
   "execution_count": null,
   "id": "ca23c5f7-f13f-47f0-afeb-243fe52a5d65",
   "metadata": {},
   "outputs": [],
   "source": [
    "group = risk['id'].str.slice(stop=2)\n",
    "group\n",
    "\n",
    "risk_pm_group = radice.compute_monthly_risk(risk, keys=['scheduler', group])\n",
    "risk_pm_group"
   ]
  },
  {
   "cell_type": "code",
   "execution_count": null,
   "id": "4c604f35-4146-4e4b-92cf-815ba73b76bb",
   "metadata": {},
   "outputs": [],
   "source": [
    "fig, ax = plt.subplots(1, 3, figsize=radice.figsize(2.5), sharey=True)\n",
    "\n",
    "order = [\n",
    "    'default',\n",
    "    'mem',\n",
    "    'core-mem',\n",
    "    'provisioned-cores',\n",
    "    'active-servers',\n",
    "    'mem-inv',\n",
    "    'core-mem-inv',\n",
    "    'provisioned-cores-inv',\n",
    "    'active-servers-inv',\n",
    "    'combo',\n",
    "    'random',\n",
    "]\n",
    "ylabels = [\n",
    "    \"Baseline\",\n",
    "    \"T1\",\n",
    "    \"T2\",\n",
    "    \"T3\",\n",
    "    \"T4\",\n",
    "    \"T1-R\",\n",
    "    \"T2-R\",\n",
    "    \"T3-R\",\n",
    "    \"T4-R\",\n",
    "    \"Combo\",\n",
    "    \"Random\",\n",
    "]\n",
    "\n",
    "\n",
    "sns.boxplot(data=risk_pm_group[risk_pm_group['id'] == 'cu'], x='cost', y='scheduler', ax=ax[0], order=order, showfliers=False, showmeans=True, color=sns.color_palette()[0])\n",
    "sns.boxplot(data=risk_pm_group[risk_pm_group['id'] == 'co'], x='cost', y='scheduler', ax=ax[1], order=order, showfliers=False, showmeans=True, color=sns.color_palette()[1])\n",
    "sns.boxplot(data=risk_pm_group[risk_pm_group['id'] == 'so'], x='cost', y='scheduler', ax=ax[2], order=order, showfliers=False, showmeans=True, color=sns.color_palette()[2])\n",
    "\n",
    "ax[0].set_ylabel(\"Scheduler\")\n",
    "ax[0].set_xlabel(\"Customer\")\n",
    "ax[0].set_yticklabels(ylabels)\n",
    "\n",
    "ax[1].set_ylabel(\"\")\n",
    "ax[1].set_xlabel(\"Company\")\n",
    "ax[1].set_yticklabels(ylabels)\n",
    "ax[1].set_xlim(left=0, right=6000)\n",
    "\n",
    "ax[2].set_ylabel(\"\")\n",
    "ax[2].set_xlabel(\"Society\")\n",
    "ax[2].set_yticklabels(ylabels)\n",
    "ax[2].set_xlim(left=0, right=3000)\n",
    "\n",
    "fig.supxlabel('Incurred Monthly Cost (€)', fontweight='bold')\n",
    "\n",
    "fig.align_ylabels(ax)\n",
    "fig.savefig(os.path.join(FIGURE_PATH, 'scheduler-groups.pdf'))"
   ]
  },
  {
   "cell_type": "code",
   "execution_count": null,
   "id": "21a00ef1-b23a-4385-9c20-d915047cdce6",
   "metadata": {},
   "outputs": [],
   "source": [
    "res = risk_pm.groupby(['scheduler'])['cost'].mean()\n",
    "res.max() - res.min()"
   ]
  },
  {
   "cell_type": "code",
   "execution_count": null,
   "id": "627eb946-db6c-41d9-94f1-67b7814a9d49",
   "metadata": {},
   "outputs": [],
   "source": [
    "res = risk_pm.groupby(['scheduler'])['cost'].quantile(0.25)\n",
    "res.max() - res.min()"
   ]
  },
  {
   "cell_type": "code",
   "execution_count": null,
   "id": "0a0ab916-ad2a-4a98-9c69-c37e74bf6ee2",
   "metadata": {},
   "outputs": [],
   "source": [
    "res = risk_pm.groupby(['scheduler'])['cost'].quantile(0.75)\n",
    "res.max() - res.min()"
   ]
  },
  {
   "cell_type": "code",
   "execution_count": null,
   "id": "42f75b48-e732-463e-8eda-db74f1a16acd",
   "metadata": {},
   "outputs": [],
   "source": [
    "risk_pm.groupby(['scheduler'])['cost'].quantile(0.75).rank()"
   ]
  },
  {
   "cell_type": "markdown",
   "id": "d336ae8d",
   "metadata": {
    "pycharm": {
     "name": "#%% md\n"
    }
   },
   "source": [
    "## Optimized Allocation Policies\n",
    "\n",
    "The experimental results are obtained by running the following command\n",
    "```bash\n",
    "bin/radice run -r 4096 -p 80 portfolios/scheduler-opt.yml -P portfolio=scheduler-opt\n",
    "```"
   ]
  },
  {
   "cell_type": "code",
   "execution_count": null,
   "id": "d39dc5c5-0a29-41a7-a90c-a6853e02c1de",
   "metadata": {},
   "outputs": [],
   "source": [
    "risk_opt = pd.read_parquet('data/risk/portfolio=scheduler-opt', columns=['candidate', 'seed', 'timestamp', 'id', 'cost'], read_dictionary=['id'])\n",
    "risk_opt = pd.concat([risk_opt, risk[risk['scheduler'] == 'random'].rename(columns={'scheduler': 'candidate'})])"
   ]
  },
  {
   "cell_type": "code",
   "execution_count": null,
   "id": "900582a4-d82a-4403-b7d2-cb5fb33118df",
   "metadata": {},
   "outputs": [],
   "source": [
    "data = radice.compute_monthly_risk(risk_opt, keys=['candidate'])\n",
    "data"
   ]
  },
  {
   "cell_type": "code",
   "execution_count": null,
   "id": "dcbc01c6-855c-4157-8b89-3e5bf8683f78",
   "metadata": {},
   "outputs": [],
   "source": [
    "res = data[~data['candidate'].str.startswith('W')].groupby(['candidate'])['cost'].mean()\n",
    "res.max() - res.min()"
   ]
  },
  {
   "cell_type": "code",
   "execution_count": null,
   "id": "eee423d2-7c58-49be-9524-9893b06f46de",
   "metadata": {},
   "outputs": [],
   "source": [
    "p  = data.groupby(['candidate'])['cost']\n",
    "p.median().sort_values()"
   ]
  },
  {
   "cell_type": "code",
   "execution_count": null,
   "id": "11b57e8d-35f1-4b54-ac69-5de0b8fb24be",
   "metadata": {},
   "outputs": [],
   "source": [
    "p  = data.groupby(['candidate'])['cost']\n",
    "p.mean().sort_values()"
   ]
  },
  {
   "cell_type": "code",
   "execution_count": null,
   "id": "0f450a6c-125c-4a2b-9158-e570bd04f22c",
   "metadata": {},
   "outputs": [],
   "source": [
    "p  = data.groupby(['candidate'])['cost']\n",
    "p.quantile([0.25, 0.75]).sort_values()"
   ]
  },
  {
   "cell_type": "code",
   "execution_count": null,
   "id": "81f1ef39-e214-47e6-a170-73f80795035a",
   "metadata": {},
   "outputs": [],
   "source": [
    "res = data[~data['candidate'].str.startswith('W')].groupby(['candidate'])['cost'].quantile(0.25)\n",
    "res.max() - res.min()"
   ]
  },
  {
   "cell_type": "code",
   "execution_count": null,
   "id": "f8b2d1df-4ae1-492f-b13c-737b1dde3497",
   "metadata": {},
   "outputs": [],
   "source": [
    "res = data[~data['candidate'].str.startswith('W')].groupby(['candidate'])['cost'].quantile(0.75)\n",
    "res.max() - res.min()"
   ]
  },
  {
   "cell_type": "code",
   "execution_count": null,
   "id": "94d69376-e004-49ca-971f-033c860fac55",
   "metadata": {},
   "outputs": [],
   "source": [
    "fig, ax = plt.subplots(figsize=radice.figsize(2.3))\n",
    "\n",
    "order = [\n",
    "    'random',\n",
    "    'baseline',\n",
    "    'B1',\n",
    "    # 'B2',\n",
    "    # 'B4',\n",
    "    'B5',\n",
    "    'B7',\n",
    "    # 'B8',\n",
    "    # 'B7',\n",
    "    # 'B5',\n",
    "    'B3',\n",
    "    'B9'\n",
    "]\n",
    "\n",
    "ax = sns.boxplot(data=data, x='cost', y='candidate', ax=ax, order=order, showfliers=False, showmeans=True, palette=['C0'])\n",
    "\n",
    "ax.set_ylabel(\"Scheduler\")\n",
    "ax.set_xlabel(\"Risk per Month (€)\")\n",
    "ax.set_yticklabels(['Random', 'Baseline', 'C1', 'C2', 'C3', 'C4', 'C5'])\n",
    "ax.set_xlim(left=0, right=12800)\n",
    "ax.xaxis.set_major_formatter(mtick.StrMethodFormatter('{x:,.0f}'))\n",
    "\n",
    "fig.savefig(os.path.join(FIGURE_PATH, 'scheduler-opt.pdf'))"
   ]
  },
  {
   "cell_type": "code",
   "execution_count": null,
   "id": "ccf49f3a-788b-409c-b042-7c385129d756",
   "metadata": {},
   "outputs": [],
   "source": [
    "baseline = data[data['candidate'] == 'baseline']['cost'].mean()\n",
    "baseline"
   ]
  },
  {
   "cell_type": "code",
   "execution_count": null,
   "id": "8b3ae4af-9259-4377-b133-656d835645b2",
   "metadata": {},
   "outputs": [],
   "source": [
    "fig, ax = plt.subplots(figsize=radice.figsize(2.1))\n",
    "\n",
    "order = [\n",
    "    'random',\n",
    "    'baseline',\n",
    "    'B1',\n",
    "    # 'B2',\n",
    "    # 'B4',\n",
    "    # 'B6',\n",
    "    'B7',\n",
    "    # 'B8',\n",
    "    # 'B7',\n",
    "    # 'B5',\n",
    "    'B3',\n",
    "    'B9'\n",
    "]\n",
    "\n",
    "sns.boxplot(data=data, x=data['cost'] / baseline, y='candidate', ax=ax, order=order, showfliers=False, showmeans=True, palette=['C0'])\n",
    "\n",
    "ax.xaxis.set_major_formatter(mtick.PercentFormatter(1.0))\n",
    "ax.set_xlabel(\"Relative Risk\")\n",
    "ax.set_ylabel(\"Scheduler\")\n",
    "ax.set_yticklabels(['Random', 'Baseline', 'C1', 'C2', 'C3', 'C4'])\n",
    "ax.set_xlim(left=0)\n",
    "\n",
    "fig.savefig(os.path.join(FIGURE_PATH, 'scheduler-opt-relative-2.pdf'))"
   ]
  },
  {
   "cell_type": "code",
   "execution_count": null,
   "id": "97ceb4e5-0a83-41ed-ae5a-84e03defa74e",
   "metadata": {},
   "outputs": [],
   "source": [
    "fig, ax = plt.subplots(figsize=radice.figsize(1.5))\n",
    "\n",
    "order = ['baseline', 'W3', 'W2', 'W1']\n",
    "\n",
    "ax = sns.boxplot(data=data, x='cost', y='candidate', ax=ax, order=order, showfliers=False, showmeans=True, palette=['C0'])\n",
    "\n",
    "ax.set_ylabel(\"Scheduler\")\n",
    "ax.set_xlabel(\"Risk per Month (€)\")\n",
    "ax.set_yticklabels(['Baseline', 'W1', 'W2', 'W3'])\n",
    "ax.set_xlim(left=0)\n",
    "ax.xaxis.set_major_formatter(mtick.StrMethodFormatter('{x:,.0f}'))\n",
    "\n",
    "fig.savefig(os.path.join(FIGURE_PATH, 'scheduler-worst.pdf'))"
   ]
  },
  {
   "cell_type": "code",
   "execution_count": null,
   "id": "86b05da9-bff5-4f57-9b24-2bf76f5a03ec",
   "metadata": {},
   "outputs": [],
   "source": [
    "fig, ax = plt.subplots(figsize=radice.figsize(1.7))\n",
    "\n",
    "order = ['baseline', 'W3', 'W2', 'W1']\n",
    "\n",
    "ax = sns.boxplot(data=data, x=data['cost'] / baseline, y='candidate', ax=ax, order=order, showfliers=False, showmeans=True, palette=['C0'])\n",
    "\n",
    "ax.set_ylabel(\"Scheduler\")\n",
    "ax.set_xlabel(\"Relative Risk\")\n",
    "ax.set_yticklabels(['Baseline', 'W1', 'W2', 'W3'])\n",
    "ax.set_xlim(left=0)\n",
    "ax.xaxis.set_major_formatter(mtick.PercentFormatter(1.0))\n",
    "\n",
    "fig.savefig(os.path.join(FIGURE_PATH, 'scheduler-worst-relative.pdf'))"
   ]
  },
  {
   "cell_type": "code",
   "execution_count": null,
   "id": "5d93cb6d-b180-4963-85fb-d7d7b85053a2",
   "metadata": {},
   "outputs": [],
   "source": [
    "risk_worst_pm = radice.compute_monthly_risk(risk_opt[risk_opt['candidate'] == 'W1'])\n",
    "risk_worst_pm.groupby([\"id\"]).describe()"
   ]
  },
  {
   "cell_type": "code",
   "execution_count": null,
   "id": "556e3fc1-58f6-4d41-b445-af657dbe6ab9",
   "metadata": {
    "pycharm": {
     "name": "#%%\n"
    }
   },
   "outputs": [],
   "source": [
    "fig, _ = radice.plot_risk_factors_horizontal(risk_worst_pm)\n"
   ]
  }
 ],
 "metadata": {
  "kernelspec": {
   "display_name": "Python 3 (ipykernel)",
   "language": "python",
   "name": "python3"
  },
  "language_info": {
   "codemirror_mode": {
    "name": "ipython",
    "version": 3
   },
   "file_extension": ".py",
   "mimetype": "text/x-python",
   "name": "python",
   "nbconvert_exporter": "python",
   "pygments_lexer": "ipython3",
   "version": "3.10.2"
  }
 },
 "nbformat": 4,
 "nbformat_minor": 5
}
