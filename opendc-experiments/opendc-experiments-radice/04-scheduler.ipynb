{
 "cells": [
  {
   "cell_type": "markdown",
   "id": "da3a34e0",
   "metadata": {},
   "source": [
    "# Experiment 4: Impact of Datacenter Scheduler\n",
    "\n",
    "> What happens when the scheduling policy changes?\n",
    "Single topology, single workload, multiple scheduling policies\n",
    "Will a change to my datacenter increase risk? Is it worth the risk?"
   ]
  },
  {
   "cell_type": "code",
   "execution_count": null,
   "id": "f17d955e-ee62-401e-bbca-57769cee53f7",
   "metadata": {},
   "outputs": [],
   "source": [
    "import os\n",
    "import pandas as pd\n",
    "import matplotlib.pyplot as plt\n",
    "import matplotlib.ticker as mtick\n",
    "import seaborn as sns\n",
    "import radice\n",
    "\n",
    "FIGURE_PATH = 'figures/04-scheduler'\n",
    "\n",
    "os.makedirs(FIGURE_PATH, exist_ok=True)\n",
    "radice.set()"
   ]
  },
  {
   "cell_type": "markdown",
   "id": "6cf8dad0",
   "metadata": {},
   "source": [
    "## Traditional Allocation Policies\n",
    "\n",
    "The experimental results are obtained by running the following command\n",
    "```bash\n",
    "bin/radice run -r 4096 -p 80 portfolios/scheduler.yml -P portfolio=scheduler\n",
    "```"
   ]
  },
  {
   "cell_type": "code",
   "execution_count": null,
   "id": "5f41c205-2a3a-4b31-bf5b-22273655098f",
   "metadata": {},
   "outputs": [],
   "source": [
    "risk = pd.read_parquet('data/risk/portfolio=scheduler',  columns=['scheduler', 'seed', 'timestamp', 'id', 'cost'], read_dictionary=['id'], buffer_size=4096)\n",
    "risk"
   ]
  },
  {
   "cell_type": "code",
   "execution_count": null,
   "id": "1bd85528-0547-429b-a301-546a8a22584f",
   "metadata": {},
   "outputs": [],
   "source": [
    "risk_pm = radice.compute_monthly_risk(risk, keys=['scheduler'])\n",
    "risk_pm"
   ]
  },
  {
   "cell_type": "code",
   "execution_count": null,
   "id": "0ead512c-5c58-4e45-bf10-789162df2c92",
   "metadata": {},
   "outputs": [],
   "source": [
    "fig, ax = plt.subplots(figsize=radice.figsize(2.3))\n",
    "\n",
    "order = [\n",
    "    'default',\n",
    "    'mem',\n",
    "    'core-mem',\n",
    "    'provisioned-cores',\n",
    "    'active-servers',\n",
    "    'mem-inv',\n",
    "    'core-mem-inv',\n",
    "    'provisioned-cores-inv',\n",
    "    'active-servers-inv',\n",
    "    'combo',\n",
    "    'random',\n",
    "]\n",
    "ylabels = [\n",
    "    \"Baseline\",\n",
    "    \"Free Memory (Max)\",\n",
    "    \"Free Memory per pCPU (Max)\",\n",
    "    \"Free vCPUs (Max)\",\n",
    "    \"VM Count (Min)\",\n",
    "    \"Free Memory (Min)\",\n",
    "    \"Free Memory per CPU (Min)\",\n",
    "    \"Free vCPUs (Min)\",\n",
    "    \"VM Count (Max)\",\n",
    "    \"Combo\",\n",
    "    \"Random\",\n",
    "]\n",
    "\n",
    "#hue_order = [\"customer\", \"company\", \"society\"]\n",
    "\n",
    "ax = sns.boxplot(data=risk_pm, x=\"cost\", y=\"scheduler\", ax=ax, order=order, showfliers=False, showmeans=True, palette=['C0', 'C1'])\n",
    "\n",
    "ax.set_ylabel(\"Scheduler\")\n",
    "ax.set_xlabel(\"Risk per Month (€)\")\n",
    "ax.set_yticklabels(ylabels, ha='left')\n",
    "ax.get_yaxis().set_tick_params(pad=120)\n",
    "ax.set_xlim(left=0, right=12800)\n",
    "ax.xaxis.set_major_formatter(mtick.StrMethodFormatter('{x:,.0f}'))\n",
    "\n",
    "fig.savefig(os.path.join(FIGURE_PATH, 'scheduler-influence.pdf'))"
   ]
  },
  {
   "cell_type": "code",
   "execution_count": null,
   "id": "ca23c5f7-f13f-47f0-afeb-243fe52a5d65",
   "metadata": {},
   "outputs": [],
   "source": [
    "group = risk['id'].str.slice(stop=2)\n",
    "group\n",
    "\n",
    "risk_pm_group = radice.compute_monthly_risk(risk, keys=['scheduler', group])\n",
    "risk_pm_group"
   ]
  },
  {
   "cell_type": "code",
   "execution_count": null,
   "id": "4c604f35-4146-4e4b-92cf-815ba73b76bb",
   "metadata": {},
   "outputs": [],
   "source": [
    "fig, ax = plt.subplots(1, 3, figsize=radice.figsize(2.5), sharey=True)\n",
    "\n",
    "order = [\n",
    "    'default',\n",
    "    'mem',\n",
    "    'core-mem',\n",
    "    'provisioned-cores',\n",
    "    'active-servers',\n",
    "    'mem-inv',\n",
    "    'core-mem-inv',\n",
    "    'provisioned-cores-inv',\n",
    "    'active-servers-inv',\n",
    "    'combo',\n",
    "    'random',\n",
    "]\n",
    "ylabels = [\n",
    "    \"Baseline\",\n",
    "    \"T1\",\n",
    "    \"T2\",\n",
    "    \"T3\",\n",
    "    \"T4\",\n",
    "    \"T1-R\",\n",
    "    \"T2-R\",\n",
    "    \"T3-R\",\n",
    "    \"T4-R\",\n",
    "    \"Combo\",\n",
    "    \"Random\",\n",
    "]\n",
    "\n",
    "\n",
    "sns.boxplot(data=risk_pm_group[risk_pm_group['id'] == 'cu'], x='cost', y='scheduler', ax=ax[0], order=order, showfliers=False, showmeans=True, color=sns.color_palette()[0])\n",
    "sns.boxplot(data=risk_pm_group[risk_pm_group['id'] == 'co'], x='cost', y='scheduler', ax=ax[1], order=order, showfliers=False, showmeans=True, color=sns.color_palette()[1])\n",
    "sns.boxplot(data=risk_pm_group[risk_pm_group['id'] == 'so'], x='cost', y='scheduler', ax=ax[2], order=order, showfliers=False, showmeans=True, color=sns.color_palette()[2])\n",
    "\n",
    "ax[0].set_ylabel(\"Scheduler\")\n",
    "ax[0].set_xlabel(\"Customer\")\n",
    "ax[0].set_yticklabels(ylabels)\n",
    "\n",
    "ax[1].set_ylabel(\"\")\n",
    "ax[1].set_xlabel(\"Company\")\n",
    "ax[1].set_yticklabels(ylabels)\n",
    "ax[1].set_xlim(left=0, right=6000)\n",
    "\n",
    "ax[2].set_ylabel(\"\")\n",
    "ax[2].set_xlabel(\"Society\")\n",
    "ax[2].set_yticklabels(ylabels)\n",
    "ax[2].set_xlim(left=0, right=3000)\n",
    "\n",
    "fig.supxlabel('Incurred Monthly Cost (€)', fontweight='bold')\n",
    "\n",
    "fig.align_ylabels(ax)\n",
    "fig.savefig(os.path.join(FIGURE_PATH, 'scheduler-groups.pdf'))"
   ]
  },
  {
   "cell_type": "code",
   "execution_count": null,
   "id": "21a00ef1-b23a-4385-9c20-d915047cdce6",
   "metadata": {},
   "outputs": [],
   "source": [
    "res = risk_pm.groupby(['scheduler'])['cost'].mean()\n",
    "res.max() - res.min()"
   ]
  },
  {
   "cell_type": "code",
   "execution_count": null,
   "id": "627eb946-db6c-41d9-94f1-67b7814a9d49",
   "metadata": {},
   "outputs": [],
   "source": [
    "res = risk_pm.groupby(['scheduler'])['cost'].quantile(0.25)\n",
    "res.max() - res.min()"
   ]
  },
  {
   "cell_type": "code",
   "execution_count": null,
   "id": "0a0ab916-ad2a-4a98-9c69-c37e74bf6ee2",
   "metadata": {},
   "outputs": [],
   "source": [
    "res = risk_pm.groupby(['scheduler'])['cost'].quantile(0.75)\n",
    "res.max() - res.min()"
   ]
  },
  {
   "cell_type": "code",
   "execution_count": null,
   "id": "42f75b48-e732-463e-8eda-db74f1a16acd",
   "metadata": {
    "pycharm": {
     "name": "#%%\n"
    }
   },
   "outputs": [],
   "source": [
    "risk_pm.groupby(['scheduler'])['cost'].quantile(0.75).rank()\n"
   ]
  }
 ],
 "metadata": {
  "kernelspec": {
   "display_name": "Python 3 (ipykernel)",
   "language": "python",
   "name": "python3"
  },
  "language_info": {
   "codemirror_mode": {
    "name": "ipython",
    "version": 3
   },
   "file_extension": ".py",
   "mimetype": "text/x-python",
   "name": "python",
   "nbconvert_exporter": "python",
   "pygments_lexer": "ipython3",
   "version": "3.10.1"
  }
 },
 "nbformat": 4,
 "nbformat_minor": 5
}