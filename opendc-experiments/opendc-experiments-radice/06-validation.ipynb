{
 "cells": [
  {
   "cell_type": "markdown",
   "id": "bddd94e1-4be9-4b07-8a47-8f51b9c64336",
   "metadata": {},
   "source": [
    "# Experimental Validation\n",
    "The experimental results are obtained from the (simulated) electricity usage reported by the experiments in the performance analysis."
   ]
  },
  {
   "cell_type": "code",
   "execution_count": null,
   "id": "2cec481e-b7b1-4ab2-96f0-ca62bd7d904c",
   "metadata": {},
   "outputs": [],
   "source": [
    "import os\n",
    "import pandas as pd\n",
    "import matplotlib.pyplot as plt\n",
    "import matplotlib.ticker as mtick\n",
    "import seaborn as sns\n",
    "import radice\n",
    "\n",
    "FIGURE_PATH = 'figures/06-validation'\n",
    "\n",
    "os.makedirs(FIGURE_PATH, exist_ok=True)\n",
    "radice.set()"
   ]
  },
  {
   "cell_type": "code",
   "execution_count": null,
   "id": "6c49fb04-6d0d-4278-bab7-94b8984e249c",
   "metadata": {},
   "outputs": [],
   "source": [
    "data = [\n",
    "    ('opendc', 'baseline', 'base', 25299.19),\n",
    "    ('opendc', 'baseline-50%', 'base-50%', 12635.45),\n",
    "    ('opendc', 'baseline-25%', 'base-25%', 6700.61),\n",
    "    ('opendc', 'baseline-10%', 'base-10%', 3237.26),\n",
    "    ('opendc', 'baseline-5%', 'base-10%', 3088.42),\n",
    "    ('opendc', 'baseline-small', 'base-25%', 5684.97),\n",
    "    ('cloudsim-plus', 'baseline', 'base', 25371.43),\n",
    "    ('cloudsim-plus', 'baseline-50%', 'base-50%', 12670.97),\n",
    "    ('cloudsim-plus', 'baseline-25%', 'base-25%', 6705.23),\n",
    "    ('cloudsim-plus', 'baseline-10%', 'base-10%', 3237.31),\n",
    "    ('cloudsim-plus', 'baseline-5%', 'base-10%', 3092.17),\n",
    "    ('cloudsim-plus', 'baseline-small', 'base-25%', 5684.53),\n",
    "]\n",
    "\n",
    "df = pd.DataFrame(data, columns=['engine', 'workload', 'topology', 'power'])\n",
    "df"
   ]
  },
  {
   "cell_type": "code",
   "execution_count": null,
   "id": "31f4fdb2-5adc-4d47-a823-efa24a161bc2",
   "metadata": {},
   "outputs": [],
   "source": [
    "fig, ax = plt.subplots(figsize=radice.figsize(2.2))\n",
    "\n",
    "hue_order = ['opendc', 'cloudsim-plus']\n",
    "order = ['baseline-5%', 'baseline-10%', 'baseline-25%', 'baseline-50%', 'baseline']\n",
    "\n",
    "ax = sns.barplot(x=df['power'] / 1000, y='workload', hue='engine', data=df, ax=ax, order=order, hue_order=hue_order, edgecolor='black')\n",
    "\n",
    "ax.set_ylabel(\"Workload\")\n",
    "ax.set_yticklabels([\"Baseline (5\\%)\", \"Baseline (10\\%)\", \"Baseline (25\\%)\", \"Baseline (50\\%)\", \"Baseline (100\\%)\"], ha='left')\n",
    "ax.get_yaxis().set_tick_params(pad=60)\n",
    "ax.set_xlabel(\"Total Electricity Usage [\\si{\\mega\\watt\\hour}]\")\n",
    "\n",
    "legend = ax.get_legend()\n",
    "legend.set_title(\"Simulator\")\n",
    "legend.get_texts()[0].set_text('Radice + OpenDC (v2.1)')\n",
    "legend.get_texts()[1].set_text('CloudSim Plus (v7.1.1)')\n",
    "\n",
    "fig.savefig(os.path.join(FIGURE_PATH, 'electricity-comparison.pgf'))"
   ]
  },
  {
   "cell_type": "code",
   "execution_count": null,
   "id": "1ff07104-2f70-4625-a7d8-de9091cd8ac8",
   "metadata": {},
   "outputs": [],
   "source": []
  }
 ],
 "metadata": {
  "kernelspec": {
   "display_name": "Python 3 (ipykernel)",
   "language": "python",
   "name": "python3"
  },
  "language_info": {
   "codemirror_mode": {
    "name": "ipython",
    "version": 3
   },
   "file_extension": ".py",
   "mimetype": "text/x-python",
   "name": "python",
   "nbconvert_exporter": "python",
   "pygments_lexer": "ipython3",
   "version": "3.10.2"
  }
 },
 "nbformat": 4,
 "nbformat_minor": 5
}
