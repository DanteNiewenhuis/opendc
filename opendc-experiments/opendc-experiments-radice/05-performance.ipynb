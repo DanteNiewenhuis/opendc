{
 "cells": [
  {
   "cell_type": "markdown",
   "id": "f60b63a6-a42a-4437-bfeb-dd50f559d5dd",
   "metadata": {},
   "source": [
    "# Performance Analysis\n",
    "The experimental results are obtained by running the following commands:\n",
    "```bash\n",
    "bin/radice-perf -r 32 --trace baseline --topology base --engine opendc \\\n",
    "                -P workload=baseline -P topology=baseline\n",
    "bin/radice-perf -r 32 --trace baseline --topology base --engine cloudsim-plus \\\n",
    "                -P workload=baseline -P topology=baseline\n",
    "                \n",
    "bin/radice-perf -r 32 --trace baseline-50% --topology base --topology-scale 0.5 --engine opendc \\\n",
    "                -P workload=baseline-50% -P topology=baseline-50%\n",
    "bin/radice-perf -r 32 --trace baseline-50% --topology base --topology-scale 0.5 --engine cloudsim-plus \\\n",
    "                -P workload=baseline-50% -P topology=baseline-50%\n",
    "\n",
    "bin/radice-perf -r 32 --trace baseline-25% --topology base --topology-scale 0.25 --engine opendc \\\n",
    "                -P workload=baseline-25% -P topology=baseline-25%\n",
    "bin/radice-perf -r 32 --trace baseline-25% --topology base --topology-scale 0.25 --engine cloudsim-plus \\\n",
    "                -P workload=baseline-25% -P topology=baseline-25%\n",
    "\n",
    "bin/radice-perf -r 32 --trace baseline-10% --topology base --topology-scale 0.1 --engine opendc \\\n",
    "                -P workload=baseline-10% -P topology=baseline-10%\n",
    "bin/radice-perf -r 32 --trace baseline-10% --topology base --topology-scale 0.1 --engine cloudsim-plus \\\n",
    "                -P workload=baseline-10% -P topology=baseline-10%\n",
    "```\n",
    "Note that the CloudSim Plus engine takes about 20 minutes to complete a single baseline workload on recent hardware."
   ]
  },
  {
   "cell_type": "code",
   "execution_count": null,
   "id": "1092a509-ed30-4abd-a9bb-ce72d177afcc",
   "metadata": {},
   "outputs": [],
   "source": [
    "import os\n",
    "import numpy as np\n",
    "import pandas as pd\n",
    "import matplotlib.pyplot as plt\n",
    "import matplotlib.ticker as mtick\n",
    "from matplotlib.lines import Line2D\n",
    "import seaborn as sns\n",
    "import radice\n",
    "\n",
    "FIGURE_PATH = 'figures/05-performance'\n",
    "\n",
    "os.makedirs(FIGURE_PATH, exist_ok=True)\n",
    "radice.set()"
   ]
  },
  {
   "cell_type": "code",
   "execution_count": null,
   "id": "b802da98-a299-4ced-a4b5-9a9d84dea90c",
   "metadata": {},
   "outputs": [],
   "source": [
    "df = pd.read_parquet('data/perf')\n",
    "df['duration'] = pd.to_timedelta(df['duration'], unit='ms')\n",
    "df['mem_usage_mb'] = df['mem_usage'] / 1000000\n",
    "df"
   ]
  },
  {
   "cell_type": "code",
   "execution_count": null,
   "id": "764b3824-2ef4-4312-9a2e-ba4dd7a163a2",
   "metadata": {},
   "outputs": [],
   "source": [
    "df.groupby([\"workload\", \"engine\"])['duration'].describe()"
   ]
  },
  {
   "cell_type": "code",
   "execution_count": null,
   "id": "3c3688b1-e544-45f9-8d3d-79bac3e0307d",
   "metadata": {},
   "outputs": [],
   "source": [
    "df.groupby([\"workload\", \"engine\"])['mem_usage_mb'].describe()"
   ]
  },
  {
   "cell_type": "code",
   "execution_count": null,
   "id": "e72fc708-17c8-4d44-92b5-d39cd084baf5",
   "metadata": {},
   "outputs": [],
   "source": [
    "fig, ax = plt.subplots(1, 2, figsize=radice.figsize(2), sharey=True)\n",
    "\n",
    "order=['baseline-5%', 'baseline-10%', 'baseline-25%', 'baseline-50%', 'baseline']\n",
    "hue_order=['opendc', 'cloudsim-plus']\n",
    "\n",
    "sns.barplot(data=df, x=df['duration'].dt.seconds, y='workload', hue='engine', orient='h', ax=ax[0], order=order, hue_order=hue_order, edgecolor='black')\n",
    "\n",
    "ax[0].set_xlabel(\"Runtime [\\si{\\second}]\")\n",
    "ax[0].set_ylabel(\"Workload\")\n",
    "\n",
    "sns.barplot(data=df, x='mem_usage_mb', y='workload',  hue='engine', orient='h', ax=ax[1], order=order, hue_order=hue_order, edgecolor='black')\n",
    "\n",
    "ax[1].set_xlabel(\"Memory Usage [\\si{\\mega\\\\byte}]\")\n",
    "ax[1].set_ylabel(\"\")\n",
    "ax[1].xaxis.set_major_formatter(mtick.StrMethodFormatter('{x:,.0f}'))\n",
    "\n",
    "legend = ax[1].get_legend()\n",
    "legend.set_title(\"Simulator\")\n",
    "legend.get_texts()[0].set_text('Radice + OpenDC (v2.1)')\n",
    "legend.get_texts()[1].set_text('CloudSim Plus (v7.1.1)')\n",
    "\n",
    "ax[0].legend([],[], frameon=False)\n",
    "ax[0].set_yticklabels([\"Baseline (5\\\\%)\", \"Baseline (10\\\\%)\", \"Baseline (25\\\\%)\", \"Baseline (50\\\\%)\", \"Baseline (100\\\\%)\"])\n",
    "ax[0].xaxis.set_major_formatter(mtick.StrMethodFormatter('{x:,.0f}'))\n",
    "\n",
    "fig.align_ylabels(ax)\n",
    "fig.savefig(os.path.join(FIGURE_PATH, 'performance-comparison.pgf'))"
   ]
  },
  {
   "cell_type": "code",
   "execution_count": null,
   "id": "f566b46b-54b5-4ead-aa98-d14db5d91c1d",
   "metadata": {},
   "outputs": [],
   "source": [
    "fig, ax = plt.subplots(1, figsize=radice.figsize(2))\n",
    "\n",
    "data = df[df['engine'] == 'cloudsim-plus']\n",
    "a = df[df['engine'] == 'cloudsim-plus'].set_index('workload')['duration']\n",
    "b = df[df['engine'] == 'opendc'].groupby(['workload'])['duration'].mean()\n",
    "\n",
    "order=['baseline-5%', 'baseline-10%', 'baseline-25%', 'baseline-50%', 'baseline']\n",
    "\n",
    "sns.barplot(data=data, x=a / b, y=(a / b).index, orient='h', ax=ax, order=order, edgecolor='black', color=sns.color_palette()[0])\n",
    "\n",
    "ax.set_xlabel(\"Speedup compared to CloudSim Plus (v7.1.1)\")\n",
    "ax.xaxis.set_major_formatter('{x:0.0f}x')\n",
    "ax.set_ylabel(\"Workload\")\n",
    "ax.set_yticklabels([\"Baseline (5\\%)\", \"Baseline (10\\%)\", \"Baseline (25\\%)\", \"Baseline (50\\%)\", \"Baseline (100\\%)\"], ha='left')\n",
    "ax.get_yaxis().set_tick_params(pad=60)\n",
    "\n",
    "fig.savefig(os.path.join(FIGURE_PATH, 'runtime-comparison.pgf'))"
   ]
  },
  {
   "cell_type": "code",
   "execution_count": null,
   "id": "4c925789-0417-4133-a6a0-ef6d2b8244cf",
   "metadata": {},
   "outputs": [],
   "source": [
    "fig, ax = plt.subplots(1, figsize=radice.figsize(1.8))\n",
    "\n",
    "order=['baseline-5%', 'baseline-10%', 'baseline-25%', 'baseline-50%', 'baseline']\n",
    "hue_order=['opendc', 'cloudsim-plus']\n",
    "\n",
    "sns.barplot(data=df, x='mem_usage_mb', y='workload',  hue='engine', orient='h', ax=ax, order=order, hue_order=hue_order, edgecolor='black')\n",
    "\n",
    "ax.set_xlabel(\"Memory Usage [\\si{\\mega\\\\byte}]\")\n",
    "ax.set_ylabel(\"Workload\")\n",
    "ax.set_yticklabels([\"Baseline (5\\%)\", \"Baseline (10\\%)\", \"Baseline (25\\%)\", \"Baseline (50\\%)\", \"Baseline (100\\%)\"], ha='left')\n",
    "ax.get_yaxis().set_tick_params(pad=60)\n",
    "\n",
    "legend = ax.get_legend()\n",
    "legend.set_title(\"Simulator\")\n",
    "legend.get_texts()[0].set_text('Radice + OpenDC (v2.1)')\n",
    "legend.get_texts()[1].set_text('CloudSim Plus (v7.1.1)')\n",
    "\n",
    "fig.align_ylabels(ax)\n",
    "fig.savefig(os.path.join(FIGURE_PATH, 'mem-comparison.pgf'))"
   ]
  },
  {
   "cell_type": "code",
   "execution_count": null,
   "id": "1fe7cd66-740c-42f7-ad64-933003ba7e3c",
   "metadata": {},
   "outputs": [],
   "source": [
    "scales = {\n",
    "    'baseline': 1,\n",
    "    'baseline-50%': 0.5,\n",
    "    'baseline-25%': 0.25,\n",
    "    'baseline-10%': 0.1,\n",
    "    'baseline-5%': 0.05\n",
    "}"
   ]
  },
  {
   "cell_type": "code",
   "execution_count": null,
   "id": "3a2e044b-fc65-49bf-85b4-34fe7dc19e01",
   "metadata": {},
   "outputs": [],
   "source": [
    "fig, ax = plt.subplots(1, 2, figsize=radice.figsize(2.2), sharex=True)\n",
    "\n",
    "data = df[df['engine'] == 'opendc']\n",
    "x = data['workload'].apply(lambda x: scales[x]).astype('float')\n",
    "y = data['duration'].dt.seconds\n",
    "\n",
    "sns.regplot(data=data, x=x, y=y, ax=ax[0], x_estimator=np.mean, order=2, x_ci='sd', scatter_kws={'zorder': 10})\n",
    "sns.regplot(data=data, x=x[x > 0.1], y=y[x > 0.1], ax=ax[0], x_estimator=np.mean, x_ci='sd', scatter=False)\n",
    "\n",
    "ax[0].set_xlabel(\"Workload Scale\")\n",
    "ax[0].set_ylabel(\"Runtime [\\si{\\second}]\");\n",
    "\n",
    "sns.regplot(data=data, x=x, y='mem_usage_mb', ax=ax[1], x_estimator=np.mean)\n",
    "\n",
    "ax[1].set_xlabel(\"Workload Scale\")\n",
    "ax[1].xaxis.set_major_formatter(mtick.PercentFormatter(1.0))\n",
    "ax[1].yaxis.set_major_formatter(mtick.StrMethodFormatter('{x:,.0f}'))\n",
    "ax[1].set_ylabel(\"Memory Usage [\\si{\\mega\\\\byte}]\");\n",
    "ax[1].set_xlim([0, 1.04])\n",
    "ax[1].set_ylim([0, 1000])\n",
    "\n",
    "handles = [\n",
    "    Line2D([0], [0], color='C0', label='Full'),\n",
    "    Line2D([0], [0], color='C1', label='25%--100%'),\n",
    "]\n",
    "\n",
    "ax[0].legend(title='Linear Regression', handles=handles, loc='upper left', bbox_to_anchor=(0, 0.5, 0.53, 0.5), mode=\"expand\")\n",
    "\n",
    "fig.align_ylabels(ax)\n",
    "fig.savefig(os.path.join(FIGURE_PATH, 'scaling-behavior.pgf'))"
   ]
  },
  {
   "cell_type": "code",
   "execution_count": null,
   "id": "b55c5272-3013-4ef6-a9da-1d10f6fabc4b",
   "metadata": {},
   "outputs": [],
   "source": [
    "fig, ax = plt.subplots(1, 2, figsize=radice.figsize(1.8), sharex=True)\n",
    "\n",
    "data = df[df['engine'] == 'cloudsim-plus']\n",
    "x = data['workload'].apply(lambda x: scales[x]).astype('float')\n",
    "\n",
    "sns.regplot(data=data, x=x, y=data['duration'].dt.seconds, ax=ax[0], x_estimator=np.mean, order=2, x_ci='sd')\n",
    "\n",
    "ax[0].set_xlabel(\"Workload Scale\")\n",
    "ax[0].set_ylabel(\"Runtime [\\si{\\second}]\");\n",
    "\n",
    "sns.regplot(data=data, x=x, y='mem_usage_mb', ax=ax[1], x_estimator=np.mean)\n",
    "\n",
    "ax[1].set_xlabel(\"Workload Scale\")\n",
    "ax[1].xaxis.set_major_formatter(mtick.PercentFormatter(1.0))\n",
    "ax[1].set_ylabel(\"Memory Usage [\\si{\\mega\\\\byte}]\");\n",
    "\n",
    "fig.align_ylabels(ax)\n",
    "fig.savefig(os.path.join(FIGURE_PATH, 'scaling-behavior-cloudsim-plus.pgf'))"
   ]
  }
 ],
 "metadata": {
  "kernelspec": {
   "display_name": "Python 3 (ipykernel)",
   "language": "python",
   "name": "python3"
  },
  "language_info": {
   "codemirror_mode": {
    "name": "ipython",
    "version": 3
   },
   "file_extension": ".py",
   "mimetype": "text/x-python",
   "name": "python",
   "nbconvert_exporter": "python",
   "pygments_lexer": "ipython3",
   "version": "3.10.2"
  }
 },
 "nbformat": 4,
 "nbformat_minor": 5
}
