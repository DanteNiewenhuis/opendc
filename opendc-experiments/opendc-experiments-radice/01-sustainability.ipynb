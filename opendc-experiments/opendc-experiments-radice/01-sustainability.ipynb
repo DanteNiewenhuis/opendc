{
 "cells": [
  {
   "cell_type": "markdown",
   "id": "a2e22e80",
   "metadata": {},
   "source": [
    "# Experiment 1: Datacenter Sustainability\n",
    "\n",
    "> Trade-off energy consumption vs. risk of SLA non-fulfillment: \"more resources guarantee better that there will be no performance or availability hiccup\"\n",
    "Argument: if we were to try different extremes, we would get … trade-offs - evaluate optimal Pareto frontier. Comment on the shape of the Pareto frontier, what happens with the scenarios far off the Pareto optimal frontier\n",
    "\n",
    "### Replication\n",
    "The experimental results are obtained by running the following command:\n",
    "```bash\n",
    "bin/radice run -r 4096 -p 80 portfolios/baseline.yml -P portfolio=baseline\n",
    "```"
   ]
  },
  {
   "cell_type": "code",
   "execution_count": null,
   "id": "f17d955e-ee62-401e-bbca-57769cee53f7",
   "metadata": {},
   "outputs": [],
   "source": [
    "import os\n",
    "import numpy as np\n",
    "import pandas as pd\n",
    "import scipy.optimize\n",
    "import scipy.stats\n",
    "import matplotlib.pyplot as plt\n",
    "import seaborn as sns\n",
    "from matplotlib.lines import Line2D\n",
    "import matplotlib.ticker as mtick\n",
    "import matplotlib.dates as mdates\n",
    "import matplotlib.patches as mpatches\n",
    "import radice\n",
    "\n",
    "FIGURE_PATH = 'figures/01-sustainability'\n",
    "\n",
    "os.makedirs(FIGURE_PATH, exist_ok=True)\n",
    "radice.set()"
   ]
  },
  {
   "cell_type": "code",
   "execution_count": null,
   "id": "3ae4dbce-1261-4b0b-b5fa-2c48dfa587dd",
   "metadata": {},
   "outputs": [],
   "source": [
    "electricity_price = pd.read_csv('electricity-price.csv')\n",
    "electricity_price['timestamp'] = pd.to_datetime(electricity_price['timestamp'], unit='ms')\n",
    "electricity_price"
   ]
  },
  {
   "cell_type": "code",
   "execution_count": null,
   "id": "37cdeb7d-0ed2-4d0c-998f-325421896dd9",
   "metadata": {},
   "outputs": [],
   "source": [
    "electricity_price.groupby(electricity_price['timestamp'].dt.year.rename(\"year\")).describe()"
   ]
  },
  {
   "cell_type": "code",
   "execution_count": null,
   "id": "d4f500cf-927f-403f-a6ca-f126dcc02989",
   "metadata": {},
   "outputs": [],
   "source": [
    "fig, ax = plt.subplots(1, figsize=radice.figsize(1.5))\n",
    "\n",
    "sns.lineplot(data=electricity_price, x='timestamp', y='price_per_mwh', ax=ax, linewidth=1)\n",
    "\n",
    "ax.set_ylabel(\"Electricity Price\\n[€ per MWh]\")\n",
    "ax.set_xlabel(\"\")\n",
    "\n",
    "xmin=pd.to_datetime('2020-01-01', format='%Y-%m-%d')\n",
    "xmax=pd.to_datetime('2021-12-20', format='%Y-%m-%d')\n",
    "ax.set_xlim(left=xmin, right=xmax)\n",
    "ax.set_ylim(bottom=0, top=400)\n",
    "ax.xaxis.set_major_formatter(mdates.DateFormatter(\"%b '%y\"))\n",
    "\n",
    "# ax.tick_params(axis='y', pad=0)\n",
    "\n",
    "fig.savefig(os.path.join(FIGURE_PATH, 'electricity-price.pdf'))"
   ]
  },
  {
   "cell_type": "code",
   "execution_count": null,
   "id": "8e94f246-2e2d-4e61-b784-ffd47edcc3f9",
   "metadata": {},
   "outputs": [],
   "source": [
    "co2_price = pd.read_csv('co2-price.csv')\n",
    "co2_price['timestamp'] = pd.to_datetime(co2_price['timestamp'])\n",
    "co2_price"
   ]
  },
  {
   "cell_type": "code",
   "execution_count": null,
   "id": "422cf5cb-c372-4107-8b85-36e57d7d4fc0",
   "metadata": {},
   "outputs": [],
   "source": [
    "co2_price.groupby(co2_price['timestamp'].dt.year.rename(\"year\")).describe()"
   ]
  },
  {
   "cell_type": "code",
   "execution_count": null,
   "id": "37ff809a-ab81-4076-9e1a-9ff1dc3f81b5",
   "metadata": {},
   "outputs": [],
   "source": [
    "fig, ax = plt.subplots(1, figsize=radice.figsize(1.5))\n",
    "\n",
    "sns.lineplot(data=co2_price, x='timestamp', y='price_per_t', linewidth=1)\n",
    "\n",
    "ax.set_ylabel(\"CO2 Price\\n[€ per tonne]\")\n",
    "ax.set_xlabel(\"\")\n",
    "\n",
    "xmin=pd.to_datetime('2020-01-01', format='%Y-%m-%d')\n",
    "xmax=pd.to_datetime('2021-12-01', format='%Y-%m-%d')\n",
    "ax.set_xlim(left=xmin, right=xmax)\n",
    "\n",
    "ax.xaxis.set_major_formatter(mdates.DateFormatter(\"%b '%y\"))\n",
    "\n",
    "fig.savefig(os.path.join(FIGURE_PATH, 'co2-price.pdf'))"
   ]
  },
  {
   "cell_type": "code",
   "execution_count": null,
   "id": "966cc2eb-3ca7-4769-a58e-7df9921f6aa5",
   "metadata": {},
   "outputs": [],
   "source": [
    "fig, ax = plt.subplots(2, 1, figsize=radice.figsize(4), sharex=True)\n",
    "\n",
    "sns.lineplot(data=electricity_price, x='timestamp', y='price_per_mwh', ax=ax[0], linewidth=1)\n",
    "\n",
    "ax[0].set_ylabel(\"Electricity Price\\n[€ per MWh]\")\n",
    "ax[0].set_xlabel(\"\")\n",
    "ax[0].set_ylim(bottom=0, top=440)\n",
    "ax[0].set_yticks([0, 100, 250, 400])\n",
    "\n",
    "sns.lineplot(data=co2_price, x='timestamp', y='price_per_t', linewidth=1, ax=ax[1])\n",
    "\n",
    "ax[1].set_ylabel(\"CO2 Price\\n[€ per tonne]\")\n",
    "ax[1].set_xlabel(\"\")\n",
    "ax[1].set_ylim(bottom=0)\n",
    "\n",
    "xmin=pd.to_datetime('2020-01-01', format='%Y-%m-%d')\n",
    "xmax=pd.to_datetime('2021-12-31', format='%Y-%m-%d')\n",
    "ax[1].set_xlim(left=xmin, right=xmax)\n",
    "ax[1].xaxis.set_major_formatter(mdates.DateFormatter(\"%b '%y\"))\n",
    "\n",
    "fig.align_ylabels(ax)\n",
    "fig.savefig(os.path.join(FIGURE_PATH, 'resource-price.pdf'))"
   ]
  },
  {
   "cell_type": "markdown",
   "id": "3d400210-3beb-4593-8687-b3e43320aadc",
   "metadata": {},
   "source": [
    "## Impact of Electricity/CO2 Prices"
   ]
  },
  {
   "cell_type": "code",
   "execution_count": null,
   "id": "66231e3f-9141-43cf-a813-baaaa8ec47a3",
   "metadata": {},
   "outputs": [],
   "source": [
    "risk = pd.read_parquet('data/risk/portfolio=baseline/topology=base', columns=['seed', 'timestamp', 'id', 'cost', 'value'], read_dictionary=['id'], buffer_size=4096)\n",
    "risk"
   ]
  },
  {
   "cell_type": "code",
   "execution_count": null,
   "id": "c2547c94-cea4-4674-876b-2318fc44ab7b",
   "metadata": {},
   "outputs": [],
   "source": [
    "risk_pm_2021_oct = radice.compute_monthly_risk(risk)\n",
    "risk_pm_2021_oct.groupby([\"id\"])['cost'].describe()"
   ]
  },
  {
   "cell_type": "code",
   "execution_count": null,
   "id": "054ceacb-ec94-475e-9982-2d58cdccf76c",
   "metadata": {},
   "outputs": [],
   "source": [
    "# Risk profile on October 7, 2021 where the electricity price is over 300 euros\n",
    "fig, ax = radice.plot_risk_factors_horizontal(risk_pm_2021_oct, height=2.1)\n",
    "\n",
    "fig.savefig(os.path.join(FIGURE_PATH, 'risk-profile-2021-oct.pdf'))"
   ]
  },
  {
   "cell_type": "code",
   "execution_count": null,
   "id": "822537e3-3275-4c23-98ce-777c3237e3c6",
   "metadata": {},
   "outputs": [],
   "source": [
    "fig, ax = plt.subplots(1, figsize=(6.2, 1.3))\n",
    "\n",
    "data = radice.compute_monthly_risk(risk_pm_2021_oct.assign(group=risk_pm_2021_oct['id'].str.split(':').str[0]), keys=['group'])\n",
    "\n",
    "sns.boxplot(x=\"cost\", y=\"group\", data=data, ax=ax, showfliers=False, showmeans=True, order=['customer', 'company', 'society'], color='C0')\n",
    "\n",
    "ax.set_xlabel(\"Incurred Monthly Cost (€)\", usetex=False)\n",
    "ax.set_yticklabels([\"Customer\", \"Company\", \"Society\"])\n",
    "ax.set_ylabel(\"Risk Class\")\n",
    "\n",
    "fig.savefig(os.path.join(FIGURE_PATH, 'risk-classes-2021-oct.pdf'))"
   ]
  },
  {
   "cell_type": "code",
   "execution_count": null,
   "id": "e07d5715-9779-4e7c-81e8-d3ff11faab72",
   "metadata": {},
   "outputs": [],
   "source": [
    "# Risk profile of last year\n",
    "risk_pm_2020 = radice.compute_monthly_risk(radice.adjust_env(risk, 30, 33))\n",
    "risk_pm_2020.groupby([\"id\"])['cost'].describe()"
   ]
  },
  {
   "cell_type": "code",
   "execution_count": null,
   "id": "4d61eedc-9756-4894-8987-d05fd5424efa",
   "metadata": {},
   "outputs": [],
   "source": [
    "fig, ax = radice.plot_risk_factors_horizontal(risk_pm_2020)\n",
    "fig.savefig(os.path.join(FIGURE_PATH, 'risk-profile-2020.pdf'))"
   ]
  },
  {
   "cell_type": "code",
   "execution_count": null,
   "id": "f1448079-a6c2-4fd4-a2e0-23050e585ba3",
   "metadata": {},
   "outputs": [],
   "source": [
    "data = pd.concat([\n",
    "    risk_pm_2020.assign(year=2020),\n",
    "    risk_pm_2021_oct.assign(year=2021)\n",
    "])\n",
    "\n",
    "fig, ax = radice.plot_risk_factors_horizontal(data, hue='year')\n",
    "\n",
    "legend = ax[0].get_legend()\n",
    "legend.set_title(\"Scenario\")\n",
    "legend.get_texts()[0].set_text('October 2020')\n",
    "legend.get_texts()[1].set_text('October 2021')\n",
    "\n",
    "fig.savefig(os.path.join(FIGURE_PATH, 'risk-comparison.pdf'))"
   ]
  },
  {
   "cell_type": "code",
   "execution_count": null,
   "id": "ae82b786-7901-4565-b3a3-7a024672cb41",
   "metadata": {},
   "outputs": [],
   "source": [
    "fig, ax = plt.subplots(1, 3, figsize=radice.figsize(2.1), sharey=True, gridspec_kw={'width_ratios': [3, 4, 1]})\n",
    "\n",
    "cx_order = ['customer:availability', 'customer:latency', 'customer:cpu_interference']\n",
    "cx_labels = ['Availability', 'Scalability', 'QoS']\n",
    "\n",
    "co_order = ['company:power', 'company:co2', 'company:host_saturation', 'company:host_imbalance']\n",
    "co_labels = ['Electricity\\nDemand', 'CO2\\nEmissions', 'Resource\\nSaturation', 'Resource\\nImbalance']\n",
    "\n",
    "soc_order = ['society:co2']\n",
    "soc_labels = ['CO2\\nEmissions']\n",
    "\n",
    "sns.barplot(x=\"id\", y=\"cost\", data=risk_pm_2020[risk_pm_2020['id'].str.startswith('customer')], ax=ax[0], order=cx_order, edgecolor='black', color='C0', zorder=2, ci=None)\n",
    "sns.barplot(x=\"id\", y=\"cost\", data=risk_pm_2021_oct[risk_pm_2021_oct['id'].str.startswith('customer')], ax=ax[0], order=cx_order, edgecolor='black', color='C1')\n",
    "\n",
    "ax[0].set_ylabel(\"Risk per Month (€)\")\n",
    "ax[0].set_xticklabels(cx_labels)\n",
    "ax[0].set_xlabel(\"\")\n",
    "ax[0].set_title(\"Customer\")\n",
    "ax[0].yaxis.set_major_formatter(mtick.StrMethodFormatter('{x:,.0f}'))\n",
    "\n",
    "patch_2020 = mpatches.Patch(facecolor='C0', edgecolor='black', label='October 2020')\n",
    "patch_2021 = mpatches.Patch(facecolor='C1', edgecolor='black', label='October 2021')\n",
    "\n",
    "legend = ax[1].legend(title='Scenario', handles=[patch_2020, patch_2021])\n",
    "\n",
    "sns.barplot(x=\"id\", y=\"cost\", data=risk_pm_2020[risk_pm_2020['id'].str.startswith('company')], ax=ax[1], order=co_order, edgecolor='black', color='C0', zorder=2, ci=None)\n",
    "sns.barplot(x=\"id\", y=\"cost\", data=risk_pm_2021_oct[risk_pm_2021_oct['id'].str.startswith('company')], ax=ax[1], order=co_order, edgecolor='black', color='C1')\n",
    "\n",
    "ax[1].set_ylabel(\"\")\n",
    "ax[1].set_xticklabels(co_labels)\n",
    "ax[1].set_xlabel(\"\")\n",
    "ax[1].set_title(\"Company\")\n",
    "ax[0].legend([],[], frameon=False)\n",
    "\n",
    "sns.barplot(x=\"id\", y=\"cost\", data=risk_pm_2020[risk_pm_2020['id'].str.startswith('society')], ax=ax[2], order=soc_order, edgecolor='black', color='C0', zorder=2, ci=None)\n",
    "sns.barplot(x=\"id\", y=\"cost\", data=risk_pm_2021_oct[risk_pm_2021_oct['id'].str.startswith('society')], ax=ax[2], order=soc_order, edgecolor='black', color='C1')\n",
    "\n",
    "ax[2].set_ylabel(\"\")\n",
    "ax[2].set_xticklabels(soc_labels)\n",
    "ax[2].set_xlabel(\"\")\n",
    "ax[2].set_title(\"Society\")\n",
    "ax[2].legend([],[], frameon=False)\n",
    "\n",
    "fig.align_xlabels(ax)\n",
    "\n",
    "for x in ax:\n",
    "    radice.align_labels(x, va='center')\n",
    "\n",
    "fig.savefig(os.path.join(FIGURE_PATH, 'risk-comparison.pdf'))"
   ]
  },
  {
   "cell_type": "code",
   "execution_count": null,
   "id": "49c525f3-155d-4b93-92fd-324567f8b877",
   "metadata": {},
   "outputs": [],
   "source": [
    "# Risk profile of this month\n",
    "risk_pm_2021_nov = radice.compute_monthly_risk(radice.adjust_env(risk, 170, 60))\n",
    "risk_pm_2021_nov.groupby([\"id\"])['cost'].describe()"
   ]
  },
  {
   "cell_type": "code",
   "execution_count": null,
   "id": "2fb69047-fee7-4416-9990-67dfb1b1c6f0",
   "metadata": {},
   "outputs": [],
   "source": [
    "fig, ax = radice.plot_risk_factors_horizontal(risk_pm_2021_nov)\n",
    "fig.savefig(os.path.join(FIGURE_PATH, 'risk-profile-2021-nov.pdf'))"
   ]
  },
  {
   "cell_type": "code",
   "execution_count": null,
   "id": "7191f1d3-a130-49ec-8ba8-e334ab3202fe",
   "metadata": {},
   "outputs": [],
   "source": [
    "risk_pm_600 = radice.compute_monthly_risk(radice.adjust_env(risk, 600, 128))\n",
    "risk_pm_600.groupby([\"id\"])['cost'].describe()"
   ]
  },
  {
   "cell_type": "code",
   "execution_count": null,
   "id": "4c5c6249-1f47-4156-9841-f01d5624ca27",
   "metadata": {},
   "outputs": [],
   "source": [
    "fig, _ = radice.plot_risk_factors_horizontal(risk_pm_600)"
   ]
  },
  {
   "cell_type": "code",
   "execution_count": null,
   "id": "ef6e28d9-42a8-46d2-8fab-cce01a7475d6",
   "metadata": {},
   "outputs": [],
   "source": [
    "risk_3000 = radice.adjust_env(risk, 3000, 640)\n",
    "risk_pm_3000 = radice.compute_monthly_risk(risk_3000)\n",
    "risk_pm_3000.groupby([\"id\"])['cost'].describe()"
   ]
  },
  {
   "cell_type": "code",
   "execution_count": null,
   "id": "3f62d84f-308e-468e-b217-555a0c0f738f",
   "metadata": {},
   "outputs": [],
   "source": [
    "fig, _ = radice.plot_risk_factors_horizontal(risk_pm_3000)"
   ]
  },
  {
   "cell_type": "code",
   "execution_count": null,
   "id": "92bc228e-f3d4-44de-9d85-8919e7c8c6ce",
   "metadata": {},
   "outputs": [],
   "source": [
    "risk_google = radice.adjust_env(risk, pue = 1.10)\n",
    "risk_pm_google = radice.compute_monthly_risk(risk_google)\n",
    "risk_pm_google.groupby([\"id\"])['cost'].describe()"
   ]
  },
  {
   "cell_type": "code",
   "execution_count": null,
   "id": "61c569f1-31be-4f6c-8902-43d76e73db38",
   "metadata": {},
   "outputs": [],
   "source": [
    "fig, _ = radice.plot_risk_factors_horizontal(risk_pm_google)"
   ]
  },
  {
   "cell_type": "code",
   "execution_count": null,
   "id": "21e84463-40bc-48ae-8c44-61f510246ec1",
   "metadata": {},
   "outputs": [],
   "source": [
    "data = pd.concat([\n",
    "    risk_pm_2020.assign(scenario='2020'),\n",
    "    risk_pm_2021_oct.assign(scenario='2021-oct'),\n",
    "    risk_pm_2021_nov.assign(scenario='2021-nov'),\n",
    "    risk_pm_600.assign(scenario='prices-2x'),\n",
    "    risk_pm_3000.assign(scenario='prices-10x'),\n",
    "])\n",
    "\n",
    "data = pd.concat([\n",
    "    radice.adjust_pue(data, pue=1.1).assign(pue='1.1'),\n",
    "    data.assign(pue='1.57'),\n",
    "    radice.adjust_pue(data, pue=2.5).assign(pue='2.5'),\n",
    "])\n",
    "\n",
    "baseline = radice.compute_monthly_risk(risk_pm_2020, keys=[])['cost'].mean()\n",
    "data = data.groupby(['seed', 'scenario', 'pue', 'month'])['cost'].sum()\n",
    "data = data.to_frame().reset_index()\n",
    "data['pct'] = data['cost'] / baseline\n",
    "data"
   ]
  },
  {
   "cell_type": "code",
   "execution_count": null,
   "id": "54cedfc6-9dee-4c64-92cd-b24196ee0015",
   "metadata": {},
   "outputs": [],
   "source": [
    "data.groupby(['scenario', 'pue'])['cost'].mean()"
   ]
  },
  {
   "cell_type": "code",
   "execution_count": null,
   "id": "9c0809c2-bbb4-4d6d-8cc0-fc7cba387e7f",
   "metadata": {},
   "outputs": [],
   "source": [
    "fig, ax = plt.subplots(1, figsize=radice.figsize(2.3))\n",
    "\n",
    "order=['2020', '2021-nov', '2021-oct', 'prices-2x', 'prices-10x']\n",
    "\n",
    "sns.barplot(data=data, x='pct', y='scenario', hue='pue', ax=ax, edgecolor='black', order=order)\n",
    "\n",
    "ax.xaxis.set_major_formatter(mtick.PercentFormatter(1.0))\n",
    "ax.set_xlabel(\"Relative Risk\")\n",
    "ax.set_ylabel(\"Scenario\")\n",
    "ax.set_yticklabels([\n",
    "  'Last year',\n",
    "  'This year',\n",
    "  'This year\\n(Peak)',\n",
    "  'Prices 2x',\n",
    "  'Prices 10x'\n",
    "])\n",
    "\n",
    "legend = ax.get_legend()\n",
    "legend.set_title(\"PUE\")\n",
    "labels = ['Google (1.1)', 'Global Average (1.57)', 'High (2.5)']\n",
    "\n",
    "for i, txt in enumerate(legend.get_texts()):\n",
    "    txt.set_text(labels[i])\n",
    "\n",
    "ax.axvline(1, color='w', alpha=0.9, linestyle='dashed', lw=1.2)\n",
    "\n",
    "radice.align_labels(ax, axis='y', ma='center', offset=-8)\n",
    "\n",
    "fig.savefig(os.path.join(FIGURE_PATH, 'electricity-price-impact.pdf'))"
   ]
  },
  {
   "cell_type": "markdown",
   "id": "460b67ba-c300-403f-b112-a4338ef611d3",
   "metadata": {},
   "source": [
    "## Impact of Topology Size"
   ]
  },
  {
   "cell_type": "code",
   "execution_count": null,
   "id": "fbaae3cd-43c2-4d03-acbe-b545cacb5490",
   "metadata": {},
   "outputs": [],
   "source": [
    "risk_12_pm = pd.read_parquet('data/risk/portfolio=baseline/topology=base-12.5%', columns=['seed', 'timestamp', 'id', 'cost'])\n",
    "risk_12_pm = radice.compute_monthly_risk(risk_12_pm)\n",
    "risk_12_pm.groupby([\"id\"])['cost'].describe()"
   ]
  },
  {
   "cell_type": "code",
   "execution_count": null,
   "id": "6ab703a4-a0e4-4057-9937-4f3b1498c4a6",
   "metadata": {},
   "outputs": [],
   "source": [
    "risk_25_pm = pd.read_parquet('data/risk/portfolio=baseline/topology=base-25%', columns=['seed', 'timestamp', 'id', 'cost'])\n",
    "risk_25_pm = radice.compute_monthly_risk(risk_25_pm)\n",
    "risk_25_pm.groupby([\"id\"])['cost'].describe()"
   ]
  },
  {
   "cell_type": "code",
   "execution_count": null,
   "id": "ae36a864-2c75-4e63-a0d2-d327fe94e729",
   "metadata": {},
   "outputs": [],
   "source": [
    "fig, _ = radice.plot_risk_factors_horizontal(risk_25_pm)\n",
    "fig.savefig(os.path.join(FIGURE_PATH, 'risk-profile-topology-25.pdf'))"
   ]
  },
  {
   "cell_type": "code",
   "execution_count": null,
   "id": "22d80423-363f-41d5-a0fd-488641216bcd",
   "metadata": {},
   "outputs": [],
   "source": [
    "risk_37_pm = pd.read_parquet('data/risk/portfolio=baseline/topology=base-37.5%', columns=['seed', 'timestamp', 'id', 'cost'])\n",
    "risk_37_pm = radice.compute_monthly_risk(risk_37_pm)\n",
    "risk_37_pm.groupby([\"id\"])['cost'].describe()"
   ]
  },
  {
   "cell_type": "code",
   "execution_count": null,
   "id": "638b9c25-f082-412c-b533-a82d6e9eee94",
   "metadata": {},
   "outputs": [],
   "source": [
    "risk_50_pm = pd.read_parquet('data/risk/portfolio=baseline/topology=base-50%', columns=['seed', 'timestamp', 'id', 'cost'])\n",
    "risk_50_pm = radice.compute_monthly_risk(risk_50_pm)\n",
    "risk_50_pm.groupby([\"id\"])['cost'].describe()"
   ]
  },
  {
   "cell_type": "code",
   "execution_count": null,
   "id": "3ce1cf93-6eb0-4d1d-9b63-0b535634190f",
   "metadata": {},
   "outputs": [],
   "source": [
    "fig, ax = radice.plot_risk_factors_horizontal(risk_50_pm)\n",
    "fig.savefig(os.path.join(FIGURE_PATH, 'risk-profile-topology-50.pdf'))"
   ]
  },
  {
   "cell_type": "code",
   "execution_count": null,
   "id": "3d5774ce-cd7a-43d3-931b-4af341b7d20a",
   "metadata": {},
   "outputs": [],
   "source": [
    "risk_75_pm = pd.read_parquet('data/risk/portfolio=baseline/topology=base-75%', columns=['seed', 'timestamp', 'id', 'cost'])\n",
    "risk_75_pm = radice.compute_monthly_risk(risk_75_pm)\n",
    "risk_75_pm.groupby([\"id\"])['cost'].describe()"
   ]
  },
  {
   "cell_type": "code",
   "execution_count": null,
   "id": "c408c2a1-da3d-48d0-8c29-f070b151a284",
   "metadata": {},
   "outputs": [],
   "source": [
    "risk_90_pm = pd.read_parquet('data/risk/portfolio=baseline/topology=base-90%', columns=['seed', 'timestamp', 'id', 'cost'])\n",
    "risk_90_pm = radice.compute_monthly_risk(risk_90_pm)\n",
    "risk_90_pm.groupby([\"id\"])['cost'].describe()"
   ]
  },
  {
   "cell_type": "code",
   "execution_count": null,
   "id": "20c4376f-de88-4090-9026-ca28c13c5f95",
   "metadata": {},
   "outputs": [],
   "source": [
    "risk_150_pm = pd.read_parquet('data/risk/portfolio=baseline/topology=base-150%', columns=['seed', 'timestamp', 'id', 'cost'])\n",
    "risk_150_pm = radice.compute_monthly_risk(risk_150_pm)\n",
    "risk_150_pm.groupby([\"id\"])['cost'].describe()"
   ]
  },
  {
   "cell_type": "code",
   "execution_count": null,
   "id": "73e5d812-52e0-4dbd-8207-977fe23014e0",
   "metadata": {},
   "outputs": [],
   "source": [
    "risk_200_pm = pd.read_parquet('data/risk/portfolio=baseline/topology=base-200%', columns=['seed', 'timestamp', 'id', 'cost'])\n",
    "risk_200_pm = radice.compute_monthly_risk(risk_200_pm)\n",
    "risk_200_pm.groupby([\"id\"])['cost'].describe()"
   ]
  },
  {
   "cell_type": "code",
   "execution_count": null,
   "id": "9e18d558-2afb-4fe0-8c55-9d0967b526bb",
   "metadata": {},
   "outputs": [],
   "source": [
    "fig, _ = radice.plot_risk_factors_horizontal(risk_200_pm)\n",
    "fig.savefig(os.path.join(FIGURE_PATH, 'risk-profile-topology-200.pdf'))"
   ]
  },
  {
   "cell_type": "code",
   "execution_count": null,
   "id": "854a9118-5b5f-41ca-9f6e-159f4f132c18",
   "metadata": {},
   "outputs": [],
   "source": [
    "risk_300_pm = pd.read_parquet('data/risk/portfolio=baseline/topology=base-300%', columns=['seed', 'timestamp', 'id', 'cost'])\n",
    "risk_300_pm = radice.compute_monthly_risk(risk_300_pm)\n",
    "risk_300_pm.groupby([\"id\"])['cost'].describe()"
   ]
  },
  {
   "cell_type": "code",
   "execution_count": null,
   "id": "ae4408e1-3cf4-40d3-aa13-08f5e42d8465",
   "metadata": {},
   "outputs": [],
   "source": [
    "risk_400_pm = pd.read_parquet('data/risk/portfolio=baseline/topology=base-400%', columns=['seed', 'timestamp', 'id', 'cost'])\n",
    "\n",
    "risk_400_pm = radice.compute_monthly_risk(risk_400_pm)\n",
    "risk_400_pm.groupby([\"id\"])['cost'].describe()"
   ]
  },
  {
   "cell_type": "code",
   "execution_count": null,
   "id": "44243636-9abc-496e-9841-5c45d1159cc6",
   "metadata": {},
   "outputs": [],
   "source": [
    "fig, _ = radice.plot_risk_factors_horizontal(risk_400_pm)\n",
    "fig.savefig(os.path.join(FIGURE_PATH, 'risk-profile-topology-400.pdf'))"
   ]
  },
  {
   "cell_type": "code",
   "execution_count": null,
   "id": "067ec4d2-c702-468c-8343-3d96b091e205",
   "metadata": {},
   "outputs": [],
   "source": [
    "data = pd.concat([\n",
    "    risk_12_pm.assign(scale=0.125),\n",
    "    risk_25_pm.assign(scale=0.25),\n",
    "    risk_37_pm.assign(scale=0.375),\n",
    "    risk_50_pm.assign(scale=0.5),\n",
    "    risk_75_pm.assign(scale=0.75),\n",
    "    risk_90_pm.assign(scale=0.9),\n",
    "    risk_pm_2021_oct.assign(scale=1),\n",
    "    risk_150_pm.assign(scale=1.5),\n",
    "    risk_200_pm.assign(scale=2),\n",
    "    risk_300_pm.assign(scale=3),\n",
    "    risk_400_pm.assign(scale=4),\n",
    "])\n",
    "\n",
    "data = pd.concat([\n",
    "    radice.adjust_pue(data, pue=1.1).assign(pue='1.1'),\n",
    "    data.assign(pue='1.57'),\n",
    "    radice.adjust_pue(data, pue=2.5).assign(pue='2.5'),\n",
    "])\n",
    "\n",
    "baseline = radice.compute_monthly_risk(risk, keys=[])['cost'].mean()\n",
    "\n",
    "data = data.groupby(['seed', 'scale', 'pue', 'month'])['cost'].sum().reset_index()\n",
    "data['increase'] = data['cost'] / radice.compute_monthly_risk(risk, keys=[])['cost'].mean()\n",
    "data"
   ]
  },
  {
   "cell_type": "code",
   "execution_count": null,
   "id": "0cc3451c-207f-4893-b16a-2f3a9f0635f6",
   "metadata": {},
   "outputs": [],
   "source": [
    "fig, ax = plt.subplots(1, figsize=radice.figsize(2))\n",
    "\n",
    "order=[0.25, 0.5, 0.75, 1.0, 2.0, 4.0]\n",
    "\n",
    "sns.barplot(data=data, x='increase', y='scale', hue='pue', orient='h', ax=ax, edgecolor='black', order=order)\n",
    "\n",
    "ax.xaxis.set_major_formatter(mtick.PercentFormatter(1.0))\n",
    "ax.set_xlabel(\"Relative Risk Increase\")\n",
    "ax.set_ylabel(\"Topology Scale\")\n",
    "ax.set_yticklabels([\n",
    "    '0.25x',\n",
    "    '0.5x',\n",
    "    '0.75x',\n",
    "    'Baseline',\n",
    "    '2x',\n",
    "    '4x'\n",
    "])\n",
    "\n",
    "legend = ax.get_legend()\n",
    "legend.set_title(\"PUE\")\n",
    "labels = ['Google (1.1)', 'Global Average (1.57)', 'High (2.5)']\n",
    "\n",
    "for i, txt in enumerate(legend.get_texts()):\n",
    "    txt.set_text(labels[i])\n",
    "\n",
    "ax.axvline(1, color='w', alpha=0.9, linestyle='dashed', lw=1.2)\n",
    "\n",
    "fig.savefig(os.path.join(FIGURE_PATH, 'topology-scale-impact.pdf'))"
   ]
  },
  {
   "cell_type": "code",
   "execution_count": null,
   "id": "ef5ffb97-6916-4412-9d32-9ba5300868bc",
   "metadata": {},
   "outputs": [],
   "source": [
    "data_m = data # [data['pue'] == '1.57']\n",
    "data_m = data_m.groupby(['pue', 'scale']).mean().reset_index()\n",
    "data_m"
   ]
  },
  {
   "cell_type": "code",
   "execution_count": null,
   "id": "3a1357c8-23e2-4abb-be7b-70c36aae449e",
   "metadata": {},
   "outputs": [],
   "source": [
    "fig, ax = plt.subplots(1, figsize=radice.figsize(2))\n",
    "\n",
    "def f(x, mu, sigma, a, b):\n",
    "    return scipy.stats.lognorm.pdf(x, sigma, scale = np.exp(mu)) + a * x + b\n",
    "\n",
    "for pue, group in data_m.groupby(['pue']):\n",
    "    x = group['scale']\n",
    "    y = group['increase']\n",
    "    xp = np.linspace(x.min(), x.max(), 100)\n",
    "\n",
    "    # Fit the curve according to our function\n",
    "    params, extras = scipy.optimize.curve_fit(f, x, y)\n",
    "    # Find minimum value\n",
    "    xmin = scipy.optimize.fmin(lambda x: f(x, *params), 1)[0]\n",
    "\n",
    "    sns.scatterplot(x=[xmin], y=[f(xmin, *params) * 9321.649190], ax=ax, edgecolor='black', zorder=150, marker='d')\n",
    "    sns.lineplot(x=xp, y=f(xp, *params) * 9321.649190, ax=ax, linewidth=0.8)\n",
    "\n",
    "sns.scatterplot(data=data_m, x='scale', y='cost', hue='pue', ax=ax, edgecolor='black', zorder=100)\n",
    "\n",
    "ax.xaxis.set_major_formatter('{x}x')\n",
    "ax.set_xlabel(\"Topology Scale\")\n",
    "# ax.yaxis.set_major_formatter(mtick.PercentFormatter(1.0))\n",
    "ax.yaxis.set_major_formatter(mtick.StrMethodFormatter('{x:,.0f}'))\n",
    "ax.set_ylabel(\"Risk per Month (€)\")\n",
    "ax.set_ylim(bottom=0, top=50000)\n",
    "#ax.ticklabel_format(useOffset=True, axis='y', style='sci', scilimits=(0, 0), useMathText=True)\n",
    "\n",
    "legend_elements = [\n",
    "    Line2D([0], [0], marker='o', linestyle='None', markerfacecolor='C0', markeredgecolor='black', markersize=8, label='Google (1.1)'),\n",
    "    Line2D([0], [0], marker='o', linestyle='None', markerfacecolor='C1', markeredgecolor='black', markersize=8, label='Global Average (1.57)'),\n",
    "    Line2D([0], [0], marker='o', linestyle='None', markerfacecolor='C2', markeredgecolor='black', markersize=8, label='High (2.5)'),\n",
    "]\n",
    "\n",
    "legend = ax.legend(handles=legend_elements, title=\"PUE\", loc='upper center', ncol=3)\n",
    "\n",
    "fig.savefig(os.path.join(FIGURE_PATH, 'topology-scale-opt.pdf'))"
   ]
  },
  {
   "cell_type": "code",
   "execution_count": null,
   "id": "a23bd896-16fa-4de4-976b-4d4117af9543",
   "metadata": {},
   "outputs": [],
   "source": [
    "fig, ax = plt.subplots(1, figsize=radice.figsize(2))\n",
    "\n",
    "scale_opt_f = radice.compute_monthly_risk(risk, keys=[])['cost'].mean()\n",
    "\n",
    "def f(x, mu, sigma, a, b):\n",
    "    return scipy.stats.lognorm.pdf(x, sigma, scale = np.exp(mu)) + a * x + b\n",
    "\n",
    "for pue, group in data_m.groupby(['pue']):\n",
    "    x = group['scale']\n",
    "    y = group['increase']\n",
    "    xp = np.linspace(x.min(), x.max(), 100)\n",
    "\n",
    "    # Fit the curve according to our function\n",
    "    params, extras = scipy.optimize.curve_fit(f, x, y)\n",
    "    # Find minimum value\n",
    "    xmin = scipy.optimize.fmin(lambda x: f(x, *params), 1)[0]\n",
    "\n",
    "    sns.scatterplot(x=[xmin], y=[(f(xmin, *params) * 9321.649190) / scale_opt_f], ax=ax, edgecolor='black', zorder=150, marker='d')\n",
    "    sns.lineplot(x=xp, y=(f(xp, *params) * 9321.649190) / scale_opt_f, ax=ax, linewidth=0.8)\n",
    "\n",
    "sns.scatterplot(data=data_m, x='scale', y='increase', hue='pue', ax=ax, edgecolor='black', zorder=100)\n",
    "\n",
    "ax.xaxis.set_major_formatter('{x}x')\n",
    "ax.set_xlabel(\"Topology Scale\")\n",
    "ax.yaxis.set_major_formatter(mtick.PercentFormatter(1.0))\n",
    "#ax.yaxis.set_major_formatter(mtick.StrMethodFormatter('{x:,.0f}'))\n",
    "ax.set_ylabel(\"Relative Risk\")\n",
    "ax.set_ylim(bottom=0)\n",
    "#ax.ticklabel_format(useOffset=True, axis='y', style='sci', scilimits=(0, 0), useMathText=True)\n",
    "\n",
    "legend_elements = [\n",
    "    Line2D([0], [0], marker='o', linestyle='None', markerfacecolor='C0', markeredgecolor='black', markersize=8, label='Google (1.1)'),\n",
    "    Line2D([0], [0], marker='o', linestyle='None', markerfacecolor='C1', markeredgecolor='black', markersize=8, label='Global Average (1.57)'),\n",
    "    Line2D([0], [0], marker='o', linestyle='None', markerfacecolor='C2', markeredgecolor='black', markersize=8, label='High (2.5)'),\n",
    "]\n",
    "    \n",
    "legend = ax.legend(handles=legend_elements, title=\"PUE\", loc='upper center', ncol=3)\n",
    "\n",
    "fig.savefig(os.path.join(FIGURE_PATH, 'topology-scale-opt-rel.pdf'))"
   ]
  },
  {
   "cell_type": "markdown",
   "id": "b001d67e-14b3-41ed-b4fe-1f4879991a25",
   "metadata": {},
   "source": [
    "## Impact of CO2 pricing"
   ]
  },
  {
   "cell_type": "code",
   "execution_count": null,
   "id": "48e6459a-ddd8-46da-a7d4-86892435e754",
   "metadata": {},
   "outputs": [],
   "source": [
    "def map_group(identifier):\n",
    "    if identifier == 'company:co2' or identifier == 'society:co2':\n",
    "        return identifier\n",
    "    else:\n",
    "        return 'other'\n",
    "\n",
    "operating_margin = 1.20\n",
    "\n",
    "group_costs = risk_pm_2021_oct.assign(group=risk_pm_2021_oct['id'].apply(map_group))\n",
    "group_costs = group_costs.groupby(['group', 'seed', 'month'])['cost'].sum().reset_index()\n",
    "group_costs = pd.concat([\n",
    "    group_costs,\n",
    "    group_costs.groupby(['seed', 'month'])['cost'].sum().reset_index().assign(group='all'),\n",
    "    (group_costs.groupby(['seed', 'month'])['cost'].sum() * operating_margin).reset_index().assign(group='revenue')\n",
    "])\n",
    "group_costs['fraction'] = group_costs['cost'] / group_costs.loc[group_costs['group'] == 'all', 'cost'].mean()\n",
    "group_costs"
   ]
  },
  {
   "cell_type": "code",
   "execution_count": null,
   "id": "a5e8292e-9d4a-4c4a-9259-f415b7301212",
   "metadata": {},
   "outputs": [],
   "source": [
    "co2_cost = risk_pm_2021_oct\n",
    "co2_cost = pd.concat([\n",
    "    radice.adjust_co2(co2_cost, co2_price=64 * 2).assign(co2_price=64 * 2),\n",
    "    radice.adjust_co2(co2_cost, co2_price=64 * 5).assign(co2_price=64 * 5),\n",
    "    radice.adjust_co2(co2_cost, co2_price=64 * 10).assign(co2_price=64 * 10),\n",
    "])\n",
    "co2_cost = pd.concat([\n",
    "    co2_cost.groupby(['co2_price', 'seed', 'month'])['cost'].sum().reset_index().assign(group='all'),\n",
    "    co2_cost[co2_cost['id'] == 'company:co2'].groupby(['co2_price', 'seed', 'month'])['cost'].sum().reset_index().assign(group='company:co2'),\n",
    "])\n",
    "co2_cost['fraction'] = co2_cost['cost'] / group_costs.loc[group_costs['group'] == 'all', 'cost'].mean()\n",
    "co2_cost"
   ]
  },
  {
   "cell_type": "code",
   "execution_count": null,
   "id": "a439b250-d98e-4730-81af-2206f1b9f99f",
   "metadata": {},
   "outputs": [],
   "source": [
    "fig, ax = plt.subplots(1, figsize=radice.figsize(2))\n",
    "\n",
    "order = ['revenue', 'all', 'other', 'society:co2', 'company:co2']\n",
    "\n",
    "bar = sns.barplot(data=group_costs, x='fraction', y='group', ax=ax, edgecolor='black', order=order, ci=None, zorder=2, color='C0')\n",
    "bar.patches[0].set_hatch('////')\n",
    "\n",
    "sns.barplot(data=co2_cost[co2_cost['co2_price'] == 64 * 2], x='fraction', y='group', ax=ax, edgecolor='black', order=order, ci=None, zorder=1.9, color='C1')\n",
    "\n",
    "sns.barplot(data=co2_cost[co2_cost['co2_price'] == 64 * 5], x='fraction', y='group', ax=ax, edgecolor='black', order=order, ci=None, zorder=1.8, color='C2')\n",
    "sns.barplot(data=co2_cost[co2_cost['co2_price'] == 64 * 10], x='fraction', y='group', ax=ax, edgecolor='black', order=order, ci=None, color='C3')\n",
    "\n",
    "ax.xaxis.set_major_formatter(mtick.PercentFormatter(1.0))\n",
    "ax.set_xlabel(\"Fraction of Monthly Costs\")\n",
    "ax.set_ylabel(\"Cost Factor\")\n",
    "ax.set_yticklabels([\n",
    "    'Revenue',\n",
    "    'Total Costs',\n",
    "    'Other Costs',\n",
    "    'CO2 (Society)',\n",
    "    'CO2 (Company)',\n",
    "], usetex=False)\n",
    "\n",
    "patch_baseline = mpatches.Patch(facecolor='C0', edgecolor='black', label='Baseline\\n(€ 64 per tCO2)')\n",
    "patch_2x = mpatches.Patch(facecolor='C1', edgecolor='black', label='2x CO2 Price')\n",
    "patch_5x = mpatches.Patch(facecolor='C2', edgecolor='black', label='5x CO2 Price')\n",
    "patch_10x = mpatches.Patch(facecolor='C3', edgecolor='black', label='10x CO2 Price')\n",
    "\n",
    "legend = ax.legend(title='CO2 Price', handles=[patch_baseline, patch_2x, patch_5x, patch_10x])\n",
    "txt = legend.get_texts()\n",
    "txt[0].set_ma('center')\n",
    "\n",
    "radice.align_labels(ax, ha='right', axis='y', offset=-8)\n",
    "\n",
    "fig.savefig(os.path.join(FIGURE_PATH, 'co2-price-impact.pdf'))"
   ]
  },
  {
   "cell_type": "markdown",
   "id": "7dbf1453-dea4-4386-9e94-025cd05c1514",
   "metadata": {},
   "source": [
    "## Environmental Impact"
   ]
  },
  {
   "cell_type": "code",
   "execution_count": null,
   "id": "4da7d992-588b-4738-9290-2f225196d589",
   "metadata": {},
   "outputs": [],
   "source": [
    "df = pd.read_parquet('data/risk', columns=['value'], buffer_size=4096, filters=[('id', '=', 'company:power')])\n",
    "df['value'].sum()"
   ]
  },
  {
   "cell_type": "code",
   "execution_count": null,
   "id": "353d2104-8372-40fe-b4eb-4b76f3a74d77",
   "metadata": {},
   "outputs": [],
   "source": [
    "df = pd.read_parquet('data/risk', columns=['cost'], buffer_size=4096, filters=[('id', '=', 'company:power')])\n",
    "df['cost'].sum()"
   ]
  },
  {
   "cell_type": "code",
   "execution_count": null,
   "id": "e00f7065-93cc-4235-9a91-7d0675630d2c",
   "metadata": {},
   "outputs": [],
   "source": [
    "df = pd.read_parquet('data/risk', columns=['value'], buffer_size=4096, filters=[('id', '=', 'company:co2')])\n",
    "df['value'].sum()"
   ]
  },
  {
   "cell_type": "code",
   "execution_count": null,
   "id": "e1c37d3d-28d8-48a6-8299-c52b6db0bcfe",
   "metadata": {},
   "outputs": [],
   "source": [
    "df = pd.read_parquet('data/risk/portfolio=baseline',  columns=['timestamp', 'topology', 'seed'], buffer_size=4096, filters=[('id', '=', 'company:power')])\n",
    "(df.groupby(['topology', 'seed'])['timestamp'].max() - pd.Timestamp(0, tz='UTC')).dt.total_seconds().sum()"
   ]
  },
  {
   "cell_type": "code",
   "execution_count": null,
   "id": "6ef838c9-86d6-4687-84e4-e77e3e428991",
   "metadata": {},
   "outputs": [],
   "source": [
    "df = pd.read_parquet('data/risk/portfolio=phenomena',  columns=['timestamp', 'scenario', 'seed'], buffer_size=4096, filters=[('id', '=', 'company:power')])\n",
    "(df.groupby(['scenario', 'seed'])['timestamp'].max() - pd.Timestamp(0, tz='UTC')).dt.total_seconds().sum()"
   ]
  },
  {
   "cell_type": "code",
   "execution_count": null,
   "id": "bfe94dd3-4f42-4cd9-b0bd-d085e0f76cd5",
   "metadata": {},
   "outputs": [],
   "source": [
    "df = pd.read_parquet('data/risk/portfolio=topology-opt',  columns=['timestamp', 'candidate', 'seed'], buffer_size=4096, filters=[('id', '=', 'company:power')])\n",
    "(df.groupby(['candidate', 'seed'])['timestamp'].max() - pd.Timestamp(0, tz='UTC')).dt.total_seconds().sum()"
   ]
  },
  {
   "cell_type": "code",
   "execution_count": null,
   "id": "862ba0d7-d07c-47c7-95af-64a95c9376fd",
   "metadata": {},
   "outputs": [],
   "source": [
    "df = pd.read_parquet('data/risk/portfolio=workload',  columns=['timestamp', 'workload', 'seed'], buffer_size=4096, filters=[('id', '=', 'company:power')])\n",
    "(df.groupby(['workload', 'seed'])['timestamp'].max() - pd.Timestamp(0, tz='UTC')).dt.total_seconds().sum()"
   ]
  },
  {
   "cell_type": "code",
   "execution_count": null,
   "id": "e1becede-dc46-47ff-9511-b4a6495475cf",
   "metadata": {},
   "outputs": [],
   "source": [
    "df = pd.read_parquet('data/risk/portfolio=workload-opt',  columns=['timestamp', 'topology', 'seed'], buffer_size=4096, filters=[('id', '=', 'company:power')])\n",
    "(df.groupby(['topology', 'seed'])['timestamp'].max() - pd.Timestamp(0, tz='UTC')).dt.total_seconds().sum()"
   ]
  },
  {
   "cell_type": "code",
   "execution_count": null,
   "id": "463baa5c-24c1-45aa-99e9-e12ee55163b0",
   "metadata": {},
   "outputs": [],
   "source": [
    "df = pd.read_parquet('data/risk/portfolio=scheduler',  columns=['timestamp', 'scheduler', 'seed'], buffer_size=4096, filters=[('id', '=', 'company:power')])\n",
    "(df.groupby(['scheduler', 'seed'])['timestamp'].max() - pd.Timestamp(0, tz='UTC')).dt.total_seconds().sum()"
   ]
  },
  {
   "cell_type": "code",
   "execution_count": null,
   "id": "8d495b2f-7fed-4e10-9ee5-126dc3b8ad97",
   "metadata": {
    "pycharm": {
     "name": "#%%\n"
    }
   },
   "outputs": [],
   "source": [
    "df = pd.read_parquet('data/risk/portfolio=scheduler-opt',  columns=['timestamp', 'candidate', 'seed'], buffer_size=4096, filters=[('id', '=', 'company:power')])\n",
    "(df.groupby(['candidate', 'seed'])['timestamp'].max() - pd.Timestamp(0, tz='UTC')).dt.total_seconds().sum()\n"
   ]
  }
 ],
 "metadata": {
  "kernelspec": {
   "display_name": "Python 3 (ipykernel)",
   "language": "python",
   "name": "python3"
  },
  "language_info": {
   "codemirror_mode": {
    "name": "ipython",
    "version": 3
   },
   "file_extension": ".py",
   "mimetype": "text/x-python",
   "name": "python",
   "nbconvert_exporter": "python",
   "pygments_lexer": "ipython3",
   "version": "3.10.2"
  }
 },
 "nbformat": 4,
 "nbformat_minor": 5
}
