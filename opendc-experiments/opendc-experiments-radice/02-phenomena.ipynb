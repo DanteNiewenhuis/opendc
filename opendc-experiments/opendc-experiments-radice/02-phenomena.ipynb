{
 "cells": [
  {
   "cell_type": "markdown",
   "id": "7320e6bf",
   "metadata": {},
   "source": [
    "# Experiment 2: Impact of Operational Phenomena\n",
    "\n",
    "> What is the financial impact of failure scenarios?\n",
    "Derive cost based on SLA from Amazon AWS\n",
    "Is my datacenter currently at risk?\n",
    "\n",
    "### Replication\n",
    "The experimental results are obtained by running the following command:\n",
    "```bash\n",
    "bin/radice run -r 4096 -p 80 portfolios/phenomena.yml -P portfolio=phenomena\n",
    "```"
   ]
  },
  {
   "cell_type": "code",
   "execution_count": null,
   "id": "f17d955e-ee62-401e-bbca-57769cee53f7",
   "metadata": {
    "pycharm": {
     "name": "#%%\n"
    }
   },
   "outputs": [],
   "source": [
    "import os\n",
    "import pandas as pd\n",
    "import matplotlib.pyplot as plt\n",
    "import seaborn as sns\n",
    "import radice\n",
    "\n",
    "FIGURE_PATH = 'figures/02-phenomena'\n",
    "\n",
    "os.makedirs(FIGURE_PATH, exist_ok=True)\n",
    "radice.set()"
   ]
  },
  {
   "cell_type": "code",
   "execution_count": null,
   "id": "66231e3f-9141-43cf-a813-baaaa8ec47a3",
   "metadata": {},
   "outputs": [],
   "source": [
    "risk = pd.read_parquet('data/risk/portfolio=phenomena/scenario=failures', columns=['seed', 'timestamp', 'id', 'value', 'cost'], read_dictionary=['id'])\n",
    "risk['group'] = risk['id'].str.split(':', n=1).str[0]\n",
    "risk"
   ]
  },
  {
   "cell_type": "code",
   "execution_count": null,
   "id": "2b485042-41d8-46bc-9a9a-558022cafa5b",
   "metadata": {},
   "outputs": [],
   "source": [
    "penalties = {\n",
    "    1: [(0.85, 1.0), (0.875, 0.3), (0.90, 0.1)],\n",
    "    2: [(0.95, 1.0), (0.975, 0.3), (0.99, 0.1)],\n",
    "    2.5: [(0.95, 1.0), (0.99, 0.3), (0.995, 0.1)],\n",
    "    3: [(0.99, 1.0), (0.995, 0.3), (0.999, 0.1)],\n",
    "    4: [(0.999, 1.0), (0.9995, 0.3), (0.9999, 0.1)],\n",
    "    5: [(0.9999, 1.0), (0.99995, 0.3), (0.99999, 0.1)],\n",
    "    6: [(0.99999, 1.0), (0.999995, 0.3), (0.999999, 0.1)],\n",
    "    7: [(0.999999, 1.0), (0.9999995, 0.3), (0.9999999, 0.1)],\n",
    "}"
   ]
  },
  {
   "cell_type": "code",
   "execution_count": null,
   "id": "eb1017c4-de26-4948-b8e0-36f329c10b33",
   "metadata": {},
   "outputs": [],
   "source": [
    "scenarios = pd.concat([\n",
    "    radice.adjust_penalty(risk, penalties[1]).assign(target='0.9'),\n",
    "    radice.adjust_penalty(risk, penalties[2]).assign(target='0.99'),\n",
    "    radice.adjust_penalty(risk, penalties[2.5]).assign(target='0.995'),\n",
    "    radice.adjust_penalty(risk, penalties[3]).assign(target='0.999'),\n",
    "    radice.adjust_penalty(risk, penalties[4]).assign(target='0.9999'),\n",
    "    radice.adjust_penalty(risk, penalties[5]).assign(target='0.99999'),\n",
    "    radice.adjust_penalty(risk, penalties[6]).assign(target='0.999999'),\n",
    "    radice.adjust_penalty(risk, penalties[7]).assign(target='0.9999999'),\n",
    "])"
   ]
  },
  {
   "cell_type": "code",
   "execution_count": null,
   "id": "ba3c6ed4-f43e-498b-9dca-029ab3fa08b7",
   "metadata": {},
   "outputs": [],
   "source": [
    "x = radice.compute_monthly_risk(scenarios, keys=['target', 'group'])\n",
    "x.groupby(['target', 'group'])['cost'].describe()"
   ]
  },
  {
   "cell_type": "code",
   "execution_count": null,
   "id": "0ead512c-5c58-4e45-bf10-789162df2c92",
   "metadata": {},
   "outputs": [],
   "source": [
    "fig, ax = plt.subplots(figsize=radice.figsize(2.5))\n",
    "\n",
    "order = [\n",
    "    '0.9',\n",
    "    '0.99',\n",
    "    '0.995',\n",
    "    '0.999',\n",
    "    '0.9999',\n",
    "    '0.99999',\n",
    "    '0.999999',\n",
    "    '0.9999999',\n",
    "]\n",
    "\n",
    "hue_order = [\"customer\", \"company\", \"society\"]\n",
    "\n",
    "ax = sns.barplot(x='cost', y='target', hue='group', data=x, order=order, hue_order=hue_order, ax=ax, edgecolor='black')\n",
    "\n",
    "ax.set_ylabel(\"Availability Target\")\n",
    "ax.set_yticklabels(['90\\\\%', '99\\\\%', '99.5\\\\%', '99.9\\\\%', '99.99\\\\%', '99.999\\\\%', '99.9999\\\\%', '99.99999\\\\%'])\n",
    "ax.set_xlabel(\"Incurred Monthly Cost (\\euro{})\")\n",
    "\n",
    "legend = ax.get_legend()\n",
    "legend.set_title(\"Risk Class\")\n",
    "legend.get_texts()[0].set_text('Customer-facing risks')\n",
    "legend.get_texts()[1].set_text('Company-facing risks')\n",
    "legend.get_texts()[2].set_text('Society-facing risks')"
   ]
  },
  {
   "cell_type": "code",
   "execution_count": null,
   "id": "7feba289-92a8-47eb-86fd-1a377d0f74b1",
   "metadata": {},
   "outputs": [],
   "source": [
    "y = radice.compute_monthly_risk(scenarios[scenarios['group'] == 'customer'], keys=['target'])\n",
    "y.groupby(['target'])['cost'].describe()"
   ]
  },
  {
   "cell_type": "code",
   "execution_count": null,
   "id": "5d257879-acc2-4363-925d-51b5ce776316",
   "metadata": {},
   "outputs": [],
   "source": [
    "fig, ax = plt.subplots(figsize=radice.figsize(2.2))\n",
    "\n",
    "order = [\n",
    "    '0.9',\n",
    "    '0.99',\n",
    "    '0.995',\n",
    "    '0.999',\n",
    "    '0.9999',\n",
    "    '0.99999',\n",
    "    '0.999999',\n",
    "    '0.9999999',\n",
    "]\n",
    "\n",
    "ax = sns.boxplot(data=y.reset_index(), x='cost', y='target', ax=ax, order=order, showfliers=False, showmeans=True, palette=['C0'])\n",
    "\n",
    "ax.set_ylabel(\"Availability Target\")\n",
    "ax.set_xlabel(\"Risk of SLA Penalties per Month (\\euro{})\")\n",
    "ax.set_yticklabels(['90\\\\%', '99\\\\%', '99.5\\\\%', '99.9\\\\%', '99.99\\\\%', '99.999\\\\%', '99.9999\\\\%', '99.99999\\\\%'])\n",
    "\n",
    "fig.savefig(os.path.join(FIGURE_PATH, 'sla-penalty.pgf'))"
   ]
  },
  {
   "cell_type": "markdown",
   "id": "c2089018-5ef1-4527-9878-8f691716f9c6",
   "metadata": {},
   "source": [
    "## CPU interference"
   ]
  },
  {
   "cell_type": "code",
   "execution_count": null,
   "id": "c1980962-04be-46f4-b14d-7831032972b4",
   "metadata": {},
   "outputs": [],
   "source": [
    "interference = pd.read_parquet('data/interference/portfolio=phenomena')\n",
    "interference = interference.groupby(['scenario', 'seed']).sum().reset_index()\n",
    "interference"
   ]
  },
  {
   "cell_type": "code",
   "execution_count": null,
   "id": "ac953daf-6a3d-424c-8987-e141a9c3f78e",
   "metadata": {},
   "outputs": [],
   "source": [
    "interference.groupby(['scenario']).describe()         "
   ]
  },
  {
   "cell_type": "code",
   "execution_count": null,
   "id": "d3cab311-9e11-4453-86b6-abe6af934e54",
   "metadata": {},
   "outputs": [],
   "source": [
    "fig, ax = plt.subplots(figsize=radice.figsize(1.5))\n",
    "\n",
    "sns.boxplot(data=interference, x='interference', y='scenario', order=['none', 'no-failures', 'no-interference', 'baseline'], showfliers=False, showmeans=True, ax=ax, palette=['C0'])\n",
    "\n",
    "ax.set_ylabel(\"Op. Phenomena\")\n",
    "ax.set_yticklabels([\"None\", \"Interference\", \"Failures\", \"All\"])\n",
    "ax.set_xlabel(\"Contended CPU time [\\si{\\second}]\");\n",
    "\n",
    "fig.savefig(os.path.join(FIGURE_PATH, 'contended-cpu-time.pgf'))"
   ]
  },
  {
   "cell_type": "code",
   "execution_count": null,
   "id": "fc754216-e520-4f9a-8c38-00bbdb5c80f2",
   "metadata": {},
   "outputs": [],
   "source": [
    "risk = pd.read_parquet('data/risk/portfolio=phenomena', columns=['seed', 'timestamp', 'id', 'cost', 'scenario'], read_dictionary=['id'])"
   ]
  },
  {
   "cell_type": "code",
   "execution_count": null,
   "id": "bb8ab78a-16d1-4649-8b2d-9f9fbba1cc6a",
   "metadata": {},
   "outputs": [],
   "source": [
    "x = radice.compute_monthly_risk(risk, keys=['id', 'scenario'])"
   ]
  },
  {
   "cell_type": "code",
   "execution_count": null,
   "id": "36dfda88-535a-46f7-a42b-406c014ae2ea",
   "metadata": {},
   "outputs": [],
   "source": [
    "x[x['id'] == 'customer:cpu_interference'].groupby('scenario')['cost'].describe()"
   ]
  }
 ],
 "metadata": {
  "kernelspec": {
   "display_name": "Python 3 (ipykernel)",
   "language": "python",
   "name": "python3"
  },
  "language_info": {
   "codemirror_mode": {
    "name": "ipython",
    "version": 3
   },
   "file_extension": ".py",
   "mimetype": "text/x-python",
   "name": "python",
   "nbconvert_exporter": "python",
   "pygments_lexer": "ipython3",
   "version": "3.10.2"
  }
 },
 "nbformat": 4,
 "nbformat_minor": 5
}
