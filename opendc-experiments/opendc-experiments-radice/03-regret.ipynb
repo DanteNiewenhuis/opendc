{
 "cells": [
  {
   "cell_type": "markdown",
   "id": "c4a14145",
   "metadata": {},
   "source": [
    "# Experiment 3: Risk of Regret\n",
    "\n",
    "> Want to cut losses? The workload changed! A new technology has just appeared! The original topology simply doesn’t work as predicted!\n",
    "Does it make sense to speed up migration to new platform?\n",
    "Will my datacenter be at risk once deployed?"
   ]
  },
  {
   "cell_type": "code",
   "execution_count": null,
   "id": "ec501655-cb77-4730-87ac-eb5355aa0d31",
   "metadata": {},
   "outputs": [],
   "source": [
    "import os\n",
    "import numpy as np\n",
    "import pandas as pd\n",
    "import matplotlib.pyplot as plt\n",
    "import matplotlib.ticker as mtick\n",
    "import seaborn as sns\n",
    "import radice\n",
    "\n",
    "FIGURE_PATH = 'figures/03-regret'\n",
    "\n",
    "os.makedirs(FIGURE_PATH, exist_ok=True)\n",
    "radice.set()"
   ]
  },
  {
   "cell_type": "markdown",
   "id": "a8b609f8-8825-4234-93e6-a793eaca2d89",
   "metadata": {},
   "source": [
    "## Different Workloads\n",
    "Data is obtained by running the following command:\n",
    "```bash\n",
    "bin/radice run -r 4096 -p 80 portfolios/workload.yml -P portfolio=workload\n",
    "```"
   ]
  },
  {
   "cell_type": "code",
   "execution_count": null,
   "id": "6c490192-fe6e-4f7f-83e5-316e53e9d19e",
   "metadata": {},
   "outputs": [],
   "source": [
    "risk = pd.read_parquet('data/risk/portfolio=workload', columns=['workload', 'seed', 'timestamp', 'id', 'cost'], read_dictionary=['id'])"
   ]
  },
  {
   "cell_type": "code",
   "execution_count": null,
   "id": "76f9ace7-4764-4b2a-bd2e-dcea27097eeb",
   "metadata": {},
   "outputs": [],
   "source": [
    "risk_pm = radice.compute_monthly_risk(risk, keys=['workload'], observed=True)\n",
    "risk_pm.groupby([\"workload\"])['cost'].describe()"
   ]
  },
  {
   "cell_type": "code",
   "execution_count": null,
   "id": "ae9276cd-20bf-4111-a7fc-065ad35e73b3",
   "metadata": {},
   "outputs": [],
   "source": [
    "fig, ax = plt.subplots(figsize=radice.figsize(1.35))\n",
    "\n",
    "order = [\n",
    "    'baseline',\n",
    "    'materna',\n",
    "    'bitbrains',\n",
    "    'azure',\n",
    "]\n",
    "\n",
    "ax = sns.boxplot(data=risk_pm, x='cost', y='workload', ax=ax, order=order, showfliers=False, showmeans=True, color='C0')\n",
    "\n",
    "ax.set_ylabel(\"Workload\")\n",
    "ax.set_xlabel(\"Risk per Month (€)\")\n",
    "ax.set_yticklabels(['Baseline', 'Materna', 'Bitbrains', 'Azure'])\n",
    "ax.set_xlim(left=0)\n",
    "ax.xaxis.set_major_formatter(mtick.StrMethodFormatter('{x:,.0f}'))\n",
    "\n",
    "fig.savefig(os.path.join(FIGURE_PATH, 'trace-comparison.pdf'))"
   ]
  },
  {
   "cell_type": "code",
   "execution_count": null,
   "id": "75cb2437-2463-4f87-bea1-dda7905c8d13",
   "metadata": {},
   "outputs": [],
   "source": [
    "data = pd.concat([\n",
    "    radice.compute_monthly_risk(risk[risk['workload'] == 'baseline'], keys=['id']).assign(workload='baseline'),\n",
    "    radice.compute_monthly_risk(risk[risk['workload'] == 'materna'], keys=['id']).assign(workload='materna'),\n",
    "    radice.compute_monthly_risk(risk[risk['workload'] == 'bitbrains'], keys=['id']).assign(workload='bitbrains'),\n",
    "    radice.compute_monthly_risk(risk[risk['workload'] == 'azure'], keys=['id']).assign(workload='azure'),\n",
    "])\n",
    "data.groupby([\"workload\", \"id\"])['cost'].describe()"
   ]
  },
  {
   "cell_type": "code",
   "execution_count": null,
   "id": "d1c1a858-19bf-41ae-946b-8737ab2b8132",
   "metadata": {},
   "outputs": [],
   "source": [
    "fig, ax = radice.plot_risk_factors_horizontal(data, hue='workload', hue_order=['baseline', 'materna', 'bitbrains', 'azure'], bar=True)\n",
    "\n",
    "legend = ax[0].get_legend()\n",
    "legend.set_title(\"Workload\")\n",
    "labels = ['Baseline', 'Materna', 'Bitbrains', 'Azure']\n",
    "\n",
    "for i, txt in enumerate(legend.get_texts()):\n",
    "    txt.set_text(labels[i])\n",
    "\n",
    "ax[1].legend([],[], frameon=False)\n",
    "\n",
    "fig.savefig(os.path.join(FIGURE_PATH, 'risk-profile-traces.pdf'))"
   ]
  },
  {
   "cell_type": "code",
   "execution_count": null,
   "id": "832e52dd-cb64-41ae-8d6f-44521003b330",
   "metadata": {},
   "outputs": [],
   "source": [
    "risk_pm_azure = radice.compute_monthly_risk(risk[risk['workload'] == 'azure'])\n",
    "risk_pm_azure.groupby([\"id\"])['cost'].describe()"
   ]
  },
  {
   "cell_type": "code",
   "execution_count": null,
   "id": "75d8f348-e051-499d-aa6e-22bad08367c4",
   "metadata": {},
   "outputs": [],
   "source": [
    "fig, ax = radice.plot_risk_factors_horizontal(risk_pm_azure, bar=True)\n",
    "fig.savefig(os.path.join(FIGURE_PATH, 'risk-profile-azure.pdf'))"
   ]
  },
  {
   "cell_type": "code",
   "execution_count": null,
   "id": "c4399da9-e61a-4b36-bf52-96138d558ea4",
   "metadata": {},
   "outputs": [],
   "source": [
    "risk_pm_materna = radice.compute_monthly_risk(risk[risk['workload'] == 'materna'])\n",
    "risk_pm_materna.groupby([\"id\"])['cost'].describe()"
   ]
  },
  {
   "cell_type": "code",
   "execution_count": null,
   "id": "4d966d29-80f3-419e-a17f-750dd033c5c5",
   "metadata": {},
   "outputs": [],
   "source": [
    "fig, _ = radice.plot_risk_factors_horizontal(risk_pm_materna)\n",
    "fig.savefig(os.path.join(FIGURE_PATH, 'risk-profile-materna.pdf'))"
   ]
  },
  {
   "cell_type": "code",
   "execution_count": null,
   "id": "111045d9-cf45-4ee8-87d7-b5b2be5143bc",
   "metadata": {},
   "outputs": [],
   "source": [
    "risk_pm_bitbrains = radice.compute_monthly_risk(risk[risk['workload'] == 'bitbrains'])\n",
    "risk_pm_bitbrains.groupby([\"id\"])['cost'].describe()"
   ]
  },
  {
   "cell_type": "code",
   "execution_count": null,
   "id": "a783395d-d3ea-4c29-837f-678e8d069a32",
   "metadata": {
    "pycharm": {
     "name": "#%%\n"
    }
   },
   "outputs": [],
   "source": [
    "fig, _ = radice.plot_risk_factors_horizontal(risk_pm_bitbrains)\n",
    "fig.savefig(os.path.join(FIGURE_PATH, 'risk-profile-bitbrains.pdf'))\n"
   ]
  }
 ],
 "metadata": {
  "kernelspec": {
   "display_name": "Python 3 (ipykernel)",
   "language": "python",
   "name": "python3"
  },
  "language_info": {
   "codemirror_mode": {
    "name": "ipython",
    "version": 3
   },
   "file_extension": ".py",
   "mimetype": "text/x-python",
   "name": "python",
   "nbconvert_exporter": "python",
   "pygments_lexer": "ipython3",
   "version": "3.10.1"
  }
 },
 "nbformat": 4,
 "nbformat_minor": 5
}
